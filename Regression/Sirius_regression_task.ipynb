{
  "nbformat": 4,
  "nbformat_minor": 0,
  "metadata": {
    "colab": {
      "name": "Sirius_regression_task.ipynb",
      "provenance": [],
      "collapsed_sections": [],
      "toc_visible": true
    },
    "kernelspec": {
      "name": "python3",
      "display_name": "Python 3"
    },
    "language_info": {
      "name": "python"
    }
  },
  "cells": [
    {
      "cell_type": "markdown",
      "metadata": {
        "id": "m1LFxJt6sExs"
      },
      "source": [
        "**Statistical analysis and Regression models building for [dataset](https://archive.ics.uci.edu/ml/datasets/auto+mpg)**"
      ]
    },
    {
      "cell_type": "markdown",
      "metadata": {
        "id": "eFUYObZ1LIji"
      },
      "source": [
        "# Open data"
      ]
    },
    {
      "cell_type": "code",
      "metadata": {
        "id": "AJaCa-Oir63N"
      },
      "source": [
        "%matplotlib inline\n",
        "import numpy as np\n",
        "import pandas as pd\n",
        "import matplotlib.pyplot as plt\n",
        "import scipy\n",
        "import seaborn as sns\n",
        "import scipy.stats as stats"
      ],
      "execution_count": 1,
      "outputs": []
    },
    {
      "cell_type": "code",
      "metadata": {
        "id": "tOsc2-EdsMBv"
      },
      "source": [
        "# preparation of csv format\n",
        "import re\n",
        "with open(\"./auto-mpg.data\") as f:\n",
        "  content = f.read()\n",
        "  content = re.sub('\\s\\s+', ';', content)\n",
        "  content = re.sub('\\t', ';', content)\n",
        "  content = content.replace('\"', '')"
      ],
      "execution_count": 2,
      "outputs": []
    },
    {
      "cell_type": "code",
      "metadata": {
        "colab": {
          "base_uri": "https://localhost:8080/",
          "height": 617
        },
        "id": "6VwTUZJcvzIl",
        "outputId": "ac2a58fc-9dee-4a9c-f64c-e28def85afff"
      },
      "source": [
        "# creating dataframe\n",
        "df = pd.DataFrame([x.split(';') for x in content.split('\\n')],\n",
        "                  columns = ['mpg', 'cylinders', 'displacement', 'horsepower', 'weight', 'acceleration', 'model_year', 'origin', 'car_name'])\n",
        "df"
      ],
      "execution_count": 3,
      "outputs": [
        {
          "output_type": "execute_result",
          "data": {
            "text/html": [
              "<div>\n",
              "<style scoped>\n",
              "    .dataframe tbody tr th:only-of-type {\n",
              "        vertical-align: middle;\n",
              "    }\n",
              "\n",
              "    .dataframe tbody tr th {\n",
              "        vertical-align: top;\n",
              "    }\n",
              "\n",
              "    .dataframe thead th {\n",
              "        text-align: right;\n",
              "    }\n",
              "</style>\n",
              "<table border=\"1\" class=\"dataframe\">\n",
              "  <thead>\n",
              "    <tr style=\"text-align: right;\">\n",
              "      <th></th>\n",
              "      <th>mpg</th>\n",
              "      <th>cylinders</th>\n",
              "      <th>displacement</th>\n",
              "      <th>horsepower</th>\n",
              "      <th>weight</th>\n",
              "      <th>acceleration</th>\n",
              "      <th>model_year</th>\n",
              "      <th>origin</th>\n",
              "      <th>car_name</th>\n",
              "    </tr>\n",
              "  </thead>\n",
              "  <tbody>\n",
              "    <tr>\n",
              "      <th>0</th>\n",
              "      <td>18.0</td>\n",
              "      <td>8</td>\n",
              "      <td>307.0</td>\n",
              "      <td>130.0</td>\n",
              "      <td>3504.</td>\n",
              "      <td>12.0</td>\n",
              "      <td>70</td>\n",
              "      <td>1</td>\n",
              "      <td>chevrolet chevelle malibu</td>\n",
              "    </tr>\n",
              "    <tr>\n",
              "      <th>1</th>\n",
              "      <td>15.0</td>\n",
              "      <td>8</td>\n",
              "      <td>350.0</td>\n",
              "      <td>165.0</td>\n",
              "      <td>3693.</td>\n",
              "      <td>11.5</td>\n",
              "      <td>70</td>\n",
              "      <td>1</td>\n",
              "      <td>buick skylark 320</td>\n",
              "    </tr>\n",
              "    <tr>\n",
              "      <th>2</th>\n",
              "      <td>18.0</td>\n",
              "      <td>8</td>\n",
              "      <td>318.0</td>\n",
              "      <td>150.0</td>\n",
              "      <td>3436.</td>\n",
              "      <td>11.0</td>\n",
              "      <td>70</td>\n",
              "      <td>1</td>\n",
              "      <td>plymouth satellite</td>\n",
              "    </tr>\n",
              "    <tr>\n",
              "      <th>3</th>\n",
              "      <td>16.0</td>\n",
              "      <td>8</td>\n",
              "      <td>304.0</td>\n",
              "      <td>150.0</td>\n",
              "      <td>3433.</td>\n",
              "      <td>12.0</td>\n",
              "      <td>70</td>\n",
              "      <td>1</td>\n",
              "      <td>amc rebel sst</td>\n",
              "    </tr>\n",
              "    <tr>\n",
              "      <th>4</th>\n",
              "      <td>17.0</td>\n",
              "      <td>8</td>\n",
              "      <td>302.0</td>\n",
              "      <td>140.0</td>\n",
              "      <td>3449.</td>\n",
              "      <td>10.5</td>\n",
              "      <td>70</td>\n",
              "      <td>1</td>\n",
              "      <td>ford torino</td>\n",
              "    </tr>\n",
              "    <tr>\n",
              "      <th>...</th>\n",
              "      <td>...</td>\n",
              "      <td>...</td>\n",
              "      <td>...</td>\n",
              "      <td>...</td>\n",
              "      <td>...</td>\n",
              "      <td>...</td>\n",
              "      <td>...</td>\n",
              "      <td>...</td>\n",
              "      <td>...</td>\n",
              "    </tr>\n",
              "    <tr>\n",
              "      <th>394</th>\n",
              "      <td>44.0</td>\n",
              "      <td>4</td>\n",
              "      <td>97.00</td>\n",
              "      <td>52.00</td>\n",
              "      <td>2130.</td>\n",
              "      <td>24.6</td>\n",
              "      <td>82</td>\n",
              "      <td>2</td>\n",
              "      <td>vw pickup</td>\n",
              "    </tr>\n",
              "    <tr>\n",
              "      <th>395</th>\n",
              "      <td>32.0</td>\n",
              "      <td>4</td>\n",
              "      <td>135.0</td>\n",
              "      <td>84.00</td>\n",
              "      <td>2295.</td>\n",
              "      <td>11.6</td>\n",
              "      <td>82</td>\n",
              "      <td>1</td>\n",
              "      <td>dodge rampage</td>\n",
              "    </tr>\n",
              "    <tr>\n",
              "      <th>396</th>\n",
              "      <td>28.0</td>\n",
              "      <td>4</td>\n",
              "      <td>120.0</td>\n",
              "      <td>79.00</td>\n",
              "      <td>2625.</td>\n",
              "      <td>18.6</td>\n",
              "      <td>82</td>\n",
              "      <td>1</td>\n",
              "      <td>ford ranger</td>\n",
              "    </tr>\n",
              "    <tr>\n",
              "      <th>397</th>\n",
              "      <td>31.0</td>\n",
              "      <td>4</td>\n",
              "      <td>119.0</td>\n",
              "      <td>82.00</td>\n",
              "      <td>2720.</td>\n",
              "      <td>19.4</td>\n",
              "      <td>82</td>\n",
              "      <td>1</td>\n",
              "      <td>chevy s-10</td>\n",
              "    </tr>\n",
              "    <tr>\n",
              "      <th>398</th>\n",
              "      <td></td>\n",
              "      <td>None</td>\n",
              "      <td>None</td>\n",
              "      <td>None</td>\n",
              "      <td>None</td>\n",
              "      <td>None</td>\n",
              "      <td>None</td>\n",
              "      <td>None</td>\n",
              "      <td>None</td>\n",
              "    </tr>\n",
              "  </tbody>\n",
              "</table>\n",
              "<p>399 rows × 9 columns</p>\n",
              "</div>"
            ],
            "text/plain": [
              "      mpg cylinders displacement  ... model_year origin                   car_name\n",
              "0    18.0         8        307.0  ...         70      1  chevrolet chevelle malibu\n",
              "1    15.0         8        350.0  ...         70      1          buick skylark 320\n",
              "2    18.0         8        318.0  ...         70      1         plymouth satellite\n",
              "3    16.0         8        304.0  ...         70      1              amc rebel sst\n",
              "4    17.0         8        302.0  ...         70      1                ford torino\n",
              "..    ...       ...          ...  ...        ...    ...                        ...\n",
              "394  44.0         4        97.00  ...         82      2                  vw pickup\n",
              "395  32.0         4        135.0  ...         82      1              dodge rampage\n",
              "396  28.0         4        120.0  ...         82      1                ford ranger\n",
              "397  31.0         4        119.0  ...         82      1                 chevy s-10\n",
              "398            None         None  ...       None   None                       None\n",
              "\n",
              "[399 rows x 9 columns]"
            ]
          },
          "metadata": {},
          "execution_count": 3
        }
      ]
    },
    {
      "cell_type": "code",
      "metadata": {
        "colab": {
          "base_uri": "https://localhost:8080/",
          "height": 652
        },
        "id": "ejsyiYCGxU3b",
        "outputId": "b445967e-8dfe-4da8-9f4a-03d9806365b6"
      },
      "source": [
        "# mark missing values as NaN and delete it\n",
        "df.replace('', np.nan, inplace=True)\n",
        "df.replace('?', np.nan, inplace=True)\n",
        "df.dropna(inplace=True)\n",
        "df"
      ],
      "execution_count": 4,
      "outputs": [
        {
          "output_type": "execute_result",
          "data": {
            "text/html": [
              "<div>\n",
              "<style scoped>\n",
              "    .dataframe tbody tr th:only-of-type {\n",
              "        vertical-align: middle;\n",
              "    }\n",
              "\n",
              "    .dataframe tbody tr th {\n",
              "        vertical-align: top;\n",
              "    }\n",
              "\n",
              "    .dataframe thead th {\n",
              "        text-align: right;\n",
              "    }\n",
              "</style>\n",
              "<table border=\"1\" class=\"dataframe\">\n",
              "  <thead>\n",
              "    <tr style=\"text-align: right;\">\n",
              "      <th></th>\n",
              "      <th>mpg</th>\n",
              "      <th>cylinders</th>\n",
              "      <th>displacement</th>\n",
              "      <th>horsepower</th>\n",
              "      <th>weight</th>\n",
              "      <th>acceleration</th>\n",
              "      <th>model_year</th>\n",
              "      <th>origin</th>\n",
              "      <th>car_name</th>\n",
              "    </tr>\n",
              "  </thead>\n",
              "  <tbody>\n",
              "    <tr>\n",
              "      <th>0</th>\n",
              "      <td>18.0</td>\n",
              "      <td>8</td>\n",
              "      <td>307.0</td>\n",
              "      <td>130.0</td>\n",
              "      <td>3504.</td>\n",
              "      <td>12.0</td>\n",
              "      <td>70</td>\n",
              "      <td>1</td>\n",
              "      <td>chevrolet chevelle malibu</td>\n",
              "    </tr>\n",
              "    <tr>\n",
              "      <th>1</th>\n",
              "      <td>15.0</td>\n",
              "      <td>8</td>\n",
              "      <td>350.0</td>\n",
              "      <td>165.0</td>\n",
              "      <td>3693.</td>\n",
              "      <td>11.5</td>\n",
              "      <td>70</td>\n",
              "      <td>1</td>\n",
              "      <td>buick skylark 320</td>\n",
              "    </tr>\n",
              "    <tr>\n",
              "      <th>2</th>\n",
              "      <td>18.0</td>\n",
              "      <td>8</td>\n",
              "      <td>318.0</td>\n",
              "      <td>150.0</td>\n",
              "      <td>3436.</td>\n",
              "      <td>11.0</td>\n",
              "      <td>70</td>\n",
              "      <td>1</td>\n",
              "      <td>plymouth satellite</td>\n",
              "    </tr>\n",
              "    <tr>\n",
              "      <th>3</th>\n",
              "      <td>16.0</td>\n",
              "      <td>8</td>\n",
              "      <td>304.0</td>\n",
              "      <td>150.0</td>\n",
              "      <td>3433.</td>\n",
              "      <td>12.0</td>\n",
              "      <td>70</td>\n",
              "      <td>1</td>\n",
              "      <td>amc rebel sst</td>\n",
              "    </tr>\n",
              "    <tr>\n",
              "      <th>4</th>\n",
              "      <td>17.0</td>\n",
              "      <td>8</td>\n",
              "      <td>302.0</td>\n",
              "      <td>140.0</td>\n",
              "      <td>3449.</td>\n",
              "      <td>10.5</td>\n",
              "      <td>70</td>\n",
              "      <td>1</td>\n",
              "      <td>ford torino</td>\n",
              "    </tr>\n",
              "    <tr>\n",
              "      <th>...</th>\n",
              "      <td>...</td>\n",
              "      <td>...</td>\n",
              "      <td>...</td>\n",
              "      <td>...</td>\n",
              "      <td>...</td>\n",
              "      <td>...</td>\n",
              "      <td>...</td>\n",
              "      <td>...</td>\n",
              "      <td>...</td>\n",
              "    </tr>\n",
              "    <tr>\n",
              "      <th>393</th>\n",
              "      <td>27.0</td>\n",
              "      <td>4</td>\n",
              "      <td>140.0</td>\n",
              "      <td>86.00</td>\n",
              "      <td>2790.</td>\n",
              "      <td>15.6</td>\n",
              "      <td>82</td>\n",
              "      <td>1</td>\n",
              "      <td>ford mustang gl</td>\n",
              "    </tr>\n",
              "    <tr>\n",
              "      <th>394</th>\n",
              "      <td>44.0</td>\n",
              "      <td>4</td>\n",
              "      <td>97.00</td>\n",
              "      <td>52.00</td>\n",
              "      <td>2130.</td>\n",
              "      <td>24.6</td>\n",
              "      <td>82</td>\n",
              "      <td>2</td>\n",
              "      <td>vw pickup</td>\n",
              "    </tr>\n",
              "    <tr>\n",
              "      <th>395</th>\n",
              "      <td>32.0</td>\n",
              "      <td>4</td>\n",
              "      <td>135.0</td>\n",
              "      <td>84.00</td>\n",
              "      <td>2295.</td>\n",
              "      <td>11.6</td>\n",
              "      <td>82</td>\n",
              "      <td>1</td>\n",
              "      <td>dodge rampage</td>\n",
              "    </tr>\n",
              "    <tr>\n",
              "      <th>396</th>\n",
              "      <td>28.0</td>\n",
              "      <td>4</td>\n",
              "      <td>120.0</td>\n",
              "      <td>79.00</td>\n",
              "      <td>2625.</td>\n",
              "      <td>18.6</td>\n",
              "      <td>82</td>\n",
              "      <td>1</td>\n",
              "      <td>ford ranger</td>\n",
              "    </tr>\n",
              "    <tr>\n",
              "      <th>397</th>\n",
              "      <td>31.0</td>\n",
              "      <td>4</td>\n",
              "      <td>119.0</td>\n",
              "      <td>82.00</td>\n",
              "      <td>2720.</td>\n",
              "      <td>19.4</td>\n",
              "      <td>82</td>\n",
              "      <td>1</td>\n",
              "      <td>chevy s-10</td>\n",
              "    </tr>\n",
              "  </tbody>\n",
              "</table>\n",
              "<p>392 rows × 9 columns</p>\n",
              "</div>"
            ],
            "text/plain": [
              "      mpg cylinders displacement  ... model_year origin                   car_name\n",
              "0    18.0         8        307.0  ...         70      1  chevrolet chevelle malibu\n",
              "1    15.0         8        350.0  ...         70      1          buick skylark 320\n",
              "2    18.0         8        318.0  ...         70      1         plymouth satellite\n",
              "3    16.0         8        304.0  ...         70      1              amc rebel sst\n",
              "4    17.0         8        302.0  ...         70      1                ford torino\n",
              "..    ...       ...          ...  ...        ...    ...                        ...\n",
              "393  27.0         4        140.0  ...         82      1            ford mustang gl\n",
              "394  44.0         4        97.00  ...         82      2                  vw pickup\n",
              "395  32.0         4        135.0  ...         82      1              dodge rampage\n",
              "396  28.0         4        120.0  ...         82      1                ford ranger\n",
              "397  31.0         4        119.0  ...         82      1                 chevy s-10\n",
              "\n",
              "[392 rows x 9 columns]"
            ]
          },
          "metadata": {},
          "execution_count": 4
        }
      ]
    },
    {
      "cell_type": "markdown",
      "metadata": {
        "id": "s5Cw3_1K_iqH"
      },
      "source": [
        "Let's firstly set corret data types for variables:\n",
        "1. mpg: continuous\n",
        "2. cylinders: multi-valued discrete\n",
        "3. displacement: continuous\n",
        "4. horsepower: continuous\n",
        "5. weight: continuous\n",
        "6. acceleration: continuous\n",
        "7. model year: multi-valued discrete\n",
        "8. origin: multi-valued discrete\n",
        "9. car name: string (unique for each instance)"
      ]
    },
    {
      "cell_type": "code",
      "metadata": {
        "colab": {
          "base_uri": "https://localhost:8080/"
        },
        "id": "sfElj0VK20iU",
        "outputId": "ca386373-8dcf-4bde-e725-c6c6281a0632"
      },
      "source": [
        "# we need to work with numeric values, but now they have object type\n",
        "df.dtypes"
      ],
      "execution_count": 5,
      "outputs": [
        {
          "output_type": "execute_result",
          "data": {
            "text/plain": [
              "mpg             object\n",
              "cylinders       object\n",
              "displacement    object\n",
              "horsepower      object\n",
              "weight          object\n",
              "acceleration    object\n",
              "model_year      object\n",
              "origin          object\n",
              "car_name        object\n",
              "dtype: object"
            ]
          },
          "metadata": {},
          "execution_count": 5
        }
      ]
    },
    {
      "cell_type": "code",
      "metadata": {
        "id": "f3fzV5q32NnS"
      },
      "source": [
        "# convert to numeric values, we will not use 'car name' in prediction\n",
        "df[['mpg', 'displacement', 'horsepower', 'weight', 'acceleration']] = df[['mpg', 'displacement', 'horsepower', 'weight', 'acceleration']].apply(pd.to_numeric)"
      ],
      "execution_count": 6,
      "outputs": []
    },
    {
      "cell_type": "code",
      "metadata": {
        "colab": {
          "base_uri": "https://localhost:8080/"
        },
        "id": "4k8ktF2j3Uja",
        "outputId": "4caaf2e7-091d-4c4f-ff53-cfbd42ee01a5"
      },
      "source": [
        "# we will not use 'car name' for predicion as far as it is unique value\n",
        "df = df.drop('car_name', axis = 1)\n",
        "df.dtypes"
      ],
      "execution_count": 7,
      "outputs": [
        {
          "output_type": "execute_result",
          "data": {
            "text/plain": [
              "mpg             float64\n",
              "cylinders        object\n",
              "displacement    float64\n",
              "horsepower      float64\n",
              "weight          float64\n",
              "acceleration    float64\n",
              "model_year       object\n",
              "origin           object\n",
              "dtype: object"
            ]
          },
          "metadata": {},
          "execution_count": 7
        }
      ]
    },
    {
      "cell_type": "markdown",
      "metadata": {
        "id": "lLP0INsu_Ek6"
      },
      "source": [
        "Finally we have 8 variables, 5 of them are numeric and 3 of them are categorical"
      ]
    },
    {
      "cell_type": "markdown",
      "metadata": {
        "id": "2kbZ7bcSLNia"
      },
      "source": [
        "# Statistical analysis: visualization and outliers cleaning"
      ]
    },
    {
      "cell_type": "code",
      "metadata": {
        "colab": {
          "base_uri": "https://localhost:8080/",
          "height": 300
        },
        "id": "4giVhbwVzxpG",
        "outputId": "f2d094e6-5df8-4fcc-dbba-7be87bddfc9a"
      },
      "source": [
        "# numeric statistics\n",
        "df.describe()"
      ],
      "execution_count": 8,
      "outputs": [
        {
          "output_type": "execute_result",
          "data": {
            "text/html": [
              "<div>\n",
              "<style scoped>\n",
              "    .dataframe tbody tr th:only-of-type {\n",
              "        vertical-align: middle;\n",
              "    }\n",
              "\n",
              "    .dataframe tbody tr th {\n",
              "        vertical-align: top;\n",
              "    }\n",
              "\n",
              "    .dataframe thead th {\n",
              "        text-align: right;\n",
              "    }\n",
              "</style>\n",
              "<table border=\"1\" class=\"dataframe\">\n",
              "  <thead>\n",
              "    <tr style=\"text-align: right;\">\n",
              "      <th></th>\n",
              "      <th>mpg</th>\n",
              "      <th>displacement</th>\n",
              "      <th>horsepower</th>\n",
              "      <th>weight</th>\n",
              "      <th>acceleration</th>\n",
              "    </tr>\n",
              "  </thead>\n",
              "  <tbody>\n",
              "    <tr>\n",
              "      <th>count</th>\n",
              "      <td>392.000000</td>\n",
              "      <td>392.000000</td>\n",
              "      <td>392.000000</td>\n",
              "      <td>392.000000</td>\n",
              "      <td>392.000000</td>\n",
              "    </tr>\n",
              "    <tr>\n",
              "      <th>mean</th>\n",
              "      <td>23.445918</td>\n",
              "      <td>194.411990</td>\n",
              "      <td>104.469388</td>\n",
              "      <td>2977.584184</td>\n",
              "      <td>15.541327</td>\n",
              "    </tr>\n",
              "    <tr>\n",
              "      <th>std</th>\n",
              "      <td>7.805007</td>\n",
              "      <td>104.644004</td>\n",
              "      <td>38.491160</td>\n",
              "      <td>849.402560</td>\n",
              "      <td>2.758864</td>\n",
              "    </tr>\n",
              "    <tr>\n",
              "      <th>min</th>\n",
              "      <td>9.000000</td>\n",
              "      <td>68.000000</td>\n",
              "      <td>46.000000</td>\n",
              "      <td>1613.000000</td>\n",
              "      <td>8.000000</td>\n",
              "    </tr>\n",
              "    <tr>\n",
              "      <th>25%</th>\n",
              "      <td>17.000000</td>\n",
              "      <td>105.000000</td>\n",
              "      <td>75.000000</td>\n",
              "      <td>2225.250000</td>\n",
              "      <td>13.775000</td>\n",
              "    </tr>\n",
              "    <tr>\n",
              "      <th>50%</th>\n",
              "      <td>22.750000</td>\n",
              "      <td>151.000000</td>\n",
              "      <td>93.500000</td>\n",
              "      <td>2803.500000</td>\n",
              "      <td>15.500000</td>\n",
              "    </tr>\n",
              "    <tr>\n",
              "      <th>75%</th>\n",
              "      <td>29.000000</td>\n",
              "      <td>275.750000</td>\n",
              "      <td>126.000000</td>\n",
              "      <td>3614.750000</td>\n",
              "      <td>17.025000</td>\n",
              "    </tr>\n",
              "    <tr>\n",
              "      <th>max</th>\n",
              "      <td>46.600000</td>\n",
              "      <td>455.000000</td>\n",
              "      <td>230.000000</td>\n",
              "      <td>5140.000000</td>\n",
              "      <td>24.800000</td>\n",
              "    </tr>\n",
              "  </tbody>\n",
              "</table>\n",
              "</div>"
            ],
            "text/plain": [
              "              mpg  displacement  horsepower       weight  acceleration\n",
              "count  392.000000    392.000000  392.000000   392.000000    392.000000\n",
              "mean    23.445918    194.411990  104.469388  2977.584184     15.541327\n",
              "std      7.805007    104.644004   38.491160   849.402560      2.758864\n",
              "min      9.000000     68.000000   46.000000  1613.000000      8.000000\n",
              "25%     17.000000    105.000000   75.000000  2225.250000     13.775000\n",
              "50%     22.750000    151.000000   93.500000  2803.500000     15.500000\n",
              "75%     29.000000    275.750000  126.000000  3614.750000     17.025000\n",
              "max     46.600000    455.000000  230.000000  5140.000000     24.800000"
            ]
          },
          "metadata": {},
          "execution_count": 8
        }
      ]
    },
    {
      "cell_type": "markdown",
      "metadata": {
        "id": "mK7jYLQHEfbz"
      },
      "source": [
        "Visualisation of data and clean outliers"
      ]
    },
    {
      "cell_type": "code",
      "metadata": {
        "colab": {
          "base_uri": "https://localhost:8080/",
          "height": 208
        },
        "id": "v-0j5ai-CGxL",
        "outputId": "2db6fbc3-df27-45b5-841f-1814bcb6997d"
      },
      "source": [
        "plt.figure(figsize=(20, 5))\n",
        "plt.subplot(141)\n",
        "plt.scatter(df['displacement'],df['mpg'])\n",
        "plt.subplot(142)\n",
        "plt.scatter(df['horsepower'],df['mpg'])\n",
        "plt.subplot(143)\n",
        "plt.scatter(df['weight'],df['mpg'])\n",
        "plt.subplot(144)\n",
        "plt.scatter(df['acceleration'],df['mpg'])\n",
        "plt.show()"
      ],
      "execution_count": 9,
      "outputs": [
        {
          "output_type": "display_data",
          "data": {
            "image/png": "[encoded data removed]",
            "text/plain": [
              "<Figure size 1440x360 with 4 Axes>"
            ]
          },
          "metadata": {
            "needs_background": "light"
          }
        }
      ]
    },
    {
      "cell_type": "markdown",
      "metadata": {
        "id": "THCP20WEQDdy"
      },
      "source": [
        "We can easily notice some trends on plots (but not so clear for last one)"
      ]
    },
    {
      "cell_type": "code",
      "metadata": {
        "colab": {
          "base_uri": "https://localhost:8080/",
          "height": 296
        },
        "id": "yFwxN7iS-w1b",
        "outputId": "90ac7d22-19d8-4a4f-d715-faa5c2b75ec1"
      },
      "source": [
        "sns.boxplot(x='cylinders', y='mpg', data=df)"
      ],
      "execution_count": 10,
      "outputs": [
        {
          "output_type": "execute_result",
          "data": {
            "text/plain": [
              "<matplotlib.axes._subplots.AxesSubplot at 0x7ff39340b410>"
            ]
          },
          "metadata": {},
          "execution_count": 10
        },
        {
          "output_type": "display_data",
          "data": {
            "image/png": "[encoded data removed]",
            "text/plain": [
              "<Figure size 432x288 with 1 Axes>"
            ]
          },
          "metadata": {
            "needs_background": "light"
          }
        }
      ]
    },
    {
      "cell_type": "code",
      "metadata": {
        "colab": {
          "base_uri": "https://localhost:8080/",
          "height": 296
        },
        "id": "CGvhMyR0GnCs",
        "outputId": "9d8d335e-159c-45cc-d747-ed199470bc56"
      },
      "source": [
        "# clean outliers \n",
        "df = df.drop(df[(df.mpg > 25) & (df.cylinders == '6')].index)\n",
        "df = df.drop(df[(df.mpg > 22) & (df.cylinders == '8')].index)\n",
        "df = df.drop(df[(df.mpg > 46) & (df.cylinders == '4')].index)\n",
        "sns.boxplot(x='cylinders', y='mpg', data=df)"
      ],
      "execution_count": 11,
      "outputs": [
        {
          "output_type": "execute_result",
          "data": {
            "text/plain": [
              "<matplotlib.axes._subplots.AxesSubplot at 0x7ff392238310>"
            ]
          },
          "metadata": {},
          "execution_count": 11
        },
        {
          "output_type": "display_data",
          "data": {
            "image/png": "[encoded data removed]",
            "text/plain": [
              "<Figure size 432x288 with 1 Axes>"
            ]
          },
          "metadata": {
            "needs_background": "light"
          }
        }
      ]
    },
    {
      "cell_type": "code",
      "metadata": {
        "colab": {
          "base_uri": "https://localhost:8080/",
          "height": 297
        },
        "id": "5ISorj_19Ytk",
        "outputId": "f25148ee-94f0-4147-c9b0-24f5e72652a3"
      },
      "source": [
        "sns.boxplot(x='model_year', y='mpg', data=df)"
      ],
      "execution_count": 12,
      "outputs": [
        {
          "output_type": "execute_result",
          "data": {
            "text/plain": [
              "<matplotlib.axes._subplots.AxesSubplot at 0x7ff393159f10>"
            ]
          },
          "metadata": {},
          "execution_count": 12
        },
        {
          "output_type": "display_data",
          "data": {
            "image/png": "[encoded data removed]",
            "text/plain": [
              "<Figure size 432x288 with 1 Axes>"
            ]
          },
          "metadata": {
            "needs_background": "light"
          }
        }
      ]
    },
    {
      "cell_type": "code",
      "metadata": {
        "colab": {
          "base_uri": "https://localhost:8080/",
          "height": 297
        },
        "id": "5RcBhxovJoNi",
        "outputId": "20365be3-631c-45b5-da8a-bc8815616763"
      },
      "source": [
        "df = df.drop(df[(df.mpg > 40) & (df.model_year == '78')].index)\n",
        "sns.boxplot(x='model_year', y='mpg', data=df)"
      ],
      "execution_count": 13,
      "outputs": [
        {
          "output_type": "execute_result",
          "data": {
            "text/plain": [
              "<matplotlib.axes._subplots.AxesSubplot at 0x7ff39221b710>"
            ]
          },
          "metadata": {},
          "execution_count": 13
        },
        {
          "output_type": "display_data",
          "data": {
            "image/png": "[encoded data removed]",
            "text/plain": [
              "<Figure size 432x288 with 1 Axes>"
            ]
          },
          "metadata": {
            "needs_background": "light"
          }
        }
      ]
    },
    {
      "cell_type": "code",
      "metadata": {
        "colab": {
          "base_uri": "https://localhost:8080/",
          "height": 296
        },
        "id": "PyaN1gP0EMLb",
        "outputId": "3b54aa9c-1f97-4da1-ffff-c224381998fa"
      },
      "source": [
        "sns.boxplot(x='origin', y='mpg', data=df)"
      ],
      "execution_count": 14,
      "outputs": [
        {
          "output_type": "execute_result",
          "data": {
            "text/plain": [
              "<matplotlib.axes._subplots.AxesSubplot at 0x7ff392067a10>"
            ]
          },
          "metadata": {},
          "execution_count": 14
        },
        {
          "output_type": "display_data",
          "data": {
            "image/png": "[encoded data removed]",
            "text/plain": [
              "<Figure size 432x288 with 1 Axes>"
            ]
          },
          "metadata": {
            "needs_background": "light"
          }
        }
      ]
    },
    {
      "cell_type": "code",
      "metadata": {
        "colab": {
          "base_uri": "https://localhost:8080/",
          "height": 296
        },
        "id": "trmMnAssKL3T",
        "outputId": "a91d0aa1-c2ae-4e3b-82a2-8433b2db5cef"
      },
      "source": [
        "df = df.drop(df[(df.mpg > 40) & (df.origin == '2')].index)\n",
        "df = df.drop(df[(df.mpg > 35) & (df.origin == '1')].index)\n",
        "sns.boxplot(x='origin', y='mpg', data=df)"
      ],
      "execution_count": 15,
      "outputs": [
        {
          "output_type": "execute_result",
          "data": {
            "text/plain": [
              "<matplotlib.axes._subplots.AxesSubplot at 0x7ff391f42d50>"
            ]
          },
          "metadata": {},
          "execution_count": 15
        },
        {
          "output_type": "display_data",
          "data": {
            "image/png": "[encoded data removed]",
            "text/plain": [
              "<Figure size 432x288 with 1 Axes>"
            ]
          },
          "metadata": {
            "needs_background": "light"
          }
        }
      ]
    },
    {
      "cell_type": "markdown",
      "metadata": {
        "id": "sfcBz_jmPUM8"
      },
      "source": [
        "# Statistical analysis: overall description and outcome analysis"
      ]
    },
    {
      "cell_type": "code",
      "metadata": {
        "colab": {
          "base_uri": "https://localhost:8080/",
          "height": 282
        },
        "id": "5lZEkKorPVsW",
        "outputId": "4be8ffae-1d50-4d85-9439-14df0479dc59"
      },
      "source": [
        "df['mpg'].hist(bins=4)"
      ],
      "execution_count": 16,
      "outputs": [
        {
          "output_type": "execute_result",
          "data": {
            "text/plain": [
              "<matplotlib.axes._subplots.AxesSubplot at 0x7ff391e17950>"
            ]
          },
          "metadata": {},
          "execution_count": 16
        },
        {
          "output_type": "display_data",
          "data": {
            "image/png": "[encoded data removed]",
            "text/plain": [
              "<Figure size 432x288 with 1 Axes>"
            ]
          },
          "metadata": {
            "needs_background": "light"
          }
        }
      ]
    },
    {
      "cell_type": "code",
      "metadata": {
        "colab": {
          "base_uri": "https://localhost:8080/"
        },
        "id": "foK0y9OfPnUu",
        "outputId": "681d1c5d-3fa1-4e60-ce0c-ad544c2189c4"
      },
      "source": [
        "# check normal distribution for 'mpg'\n",
        "stats.shapiro(df['mpg'])"
      ],
      "execution_count": 17,
      "outputs": [
        {
          "output_type": "execute_result",
          "data": {
            "text/plain": [
              "ShapiroResult(statistic=0.9672062993049622, pvalue=2.121889792761067e-07)"
            ]
          },
          "metadata": {},
          "execution_count": 17
        }
      ]
    },
    {
      "cell_type": "markdown",
      "metadata": {
        "id": "XYnZFC2mPzuz"
      },
      "source": [
        "P-value is less than 0.05, hence MPG does not satisfy noraml distribution"
      ]
    },
    {
      "cell_type": "code",
      "metadata": {
        "colab": {
          "base_uri": "https://localhost:8080/",
          "height": 300
        },
        "id": "f7Cu5S6BMoL9",
        "outputId": "88147fbb-08f4-4712-ca1f-f6c6e171262b"
      },
      "source": [
        "df.describe()"
      ],
      "execution_count": 18,
      "outputs": [
        {
          "output_type": "execute_result",
          "data": {
            "text/html": [
              "<div>\n",
              "<style scoped>\n",
              "    .dataframe tbody tr th:only-of-type {\n",
              "        vertical-align: middle;\n",
              "    }\n",
              "\n",
              "    .dataframe tbody tr th {\n",
              "        vertical-align: top;\n",
              "    }\n",
              "\n",
              "    .dataframe thead th {\n",
              "        text-align: right;\n",
              "    }\n",
              "</style>\n",
              "<table border=\"1\" class=\"dataframe\">\n",
              "  <thead>\n",
              "    <tr style=\"text-align: right;\">\n",
              "      <th></th>\n",
              "      <th>mpg</th>\n",
              "      <th>displacement</th>\n",
              "      <th>horsepower</th>\n",
              "      <th>weight</th>\n",
              "      <th>acceleration</th>\n",
              "    </tr>\n",
              "  </thead>\n",
              "  <tbody>\n",
              "    <tr>\n",
              "      <th>count</th>\n",
              "      <td>371.000000</td>\n",
              "      <td>371.000000</td>\n",
              "      <td>371.000000</td>\n",
              "      <td>371.000000</td>\n",
              "      <td>371.000000</td>\n",
              "    </tr>\n",
              "    <tr>\n",
              "      <th>mean</th>\n",
              "      <td>22.779515</td>\n",
              "      <td>196.737197</td>\n",
              "      <td>105.738544</td>\n",
              "      <td>3002.396226</td>\n",
              "      <td>15.456873</td>\n",
              "    </tr>\n",
              "    <tr>\n",
              "      <th>std</th>\n",
              "      <td>7.290672</td>\n",
              "      <td>105.307049</td>\n",
              "      <td>38.696031</td>\n",
              "      <td>854.373443</td>\n",
              "      <td>2.652042</td>\n",
              "    </tr>\n",
              "    <tr>\n",
              "      <th>min</th>\n",
              "      <td>9.000000</td>\n",
              "      <td>68.000000</td>\n",
              "      <td>46.000000</td>\n",
              "      <td>1613.000000</td>\n",
              "      <td>8.000000</td>\n",
              "    </tr>\n",
              "    <tr>\n",
              "      <th>25%</th>\n",
              "      <td>17.000000</td>\n",
              "      <td>106.000000</td>\n",
              "      <td>77.500000</td>\n",
              "      <td>2245.500000</td>\n",
              "      <td>13.750000</td>\n",
              "    </tr>\n",
              "    <tr>\n",
              "      <th>50%</th>\n",
              "      <td>22.000000</td>\n",
              "      <td>151.000000</td>\n",
              "      <td>95.000000</td>\n",
              "      <td>2833.000000</td>\n",
              "      <td>15.500000</td>\n",
              "    </tr>\n",
              "    <tr>\n",
              "      <th>75%</th>\n",
              "      <td>28.000000</td>\n",
              "      <td>302.000000</td>\n",
              "      <td>130.000000</td>\n",
              "      <td>3638.500000</td>\n",
              "      <td>17.000000</td>\n",
              "    </tr>\n",
              "    <tr>\n",
              "      <th>max</th>\n",
              "      <td>44.600000</td>\n",
              "      <td>455.000000</td>\n",
              "      <td>230.000000</td>\n",
              "      <td>5140.000000</td>\n",
              "      <td>24.800000</td>\n",
              "    </tr>\n",
              "  </tbody>\n",
              "</table>\n",
              "</div>"
            ],
            "text/plain": [
              "              mpg  displacement  horsepower       weight  acceleration\n",
              "count  371.000000    371.000000  371.000000   371.000000    371.000000\n",
              "mean    22.779515    196.737197  105.738544  3002.396226     15.456873\n",
              "std      7.290672    105.307049   38.696031   854.373443      2.652042\n",
              "min      9.000000     68.000000   46.000000  1613.000000      8.000000\n",
              "25%     17.000000    106.000000   77.500000  2245.500000     13.750000\n",
              "50%     22.000000    151.000000   95.000000  2833.000000     15.500000\n",
              "75%     28.000000    302.000000  130.000000  3638.500000     17.000000\n",
              "max     44.600000    455.000000  230.000000  5140.000000     24.800000"
            ]
          },
          "metadata": {},
          "execution_count": 18
        }
      ]
    },
    {
      "cell_type": "markdown",
      "metadata": {
        "id": "tElvx2fm7Pp_"
      },
      "source": [
        "# Statistical analysis: influence of quantitative features"
      ]
    },
    {
      "cell_type": "code",
      "metadata": {
        "colab": {
          "base_uri": "https://localhost:8080/",
          "height": 326
        },
        "id": "GQbQ8Rn6KYAk",
        "outputId": "f0009926-35fc-41c5-de11-64a2c9e194a2"
      },
      "source": [
        "num = ['mpg', 'displacement', 'horsepower', 'weight', 'acceleration']\n",
        "hm = sns.heatmap(df[num].corr(),annot=True)"
      ],
      "execution_count": 19,
      "outputs": [
        {
          "output_type": "display_data",
          "data": {
            "image/png": "[encoded data removed]",
            "text/plain": [
              "<Figure size 432x288 with 2 Axes>"
            ]
          },
          "metadata": {
            "needs_background": "light"
          }
        }
      ]
    },
    {
      "cell_type": "code",
      "metadata": {
        "colab": {
          "base_uri": "https://localhost:8080/",
          "height": 326
        },
        "id": "WQQzZYZ8MCTC",
        "outputId": "df5131e7-e29f-4030-c525-a77d92f6d9f5"
      },
      "source": [
        "ran = ['mpg', 'displacement', 'horsepower', 'weight', 'acceleration']\n",
        "hm = sns.heatmap(df[ran].corr(method = 'spearman'), annot=True)"
      ],
      "execution_count": 20,
      "outputs": [
        {
          "output_type": "display_data",
          "data": {
            "image/png": "[encoded data removed]",
            "text/plain": [
              "<Figure size 432x288 with 2 Axes>"
            ]
          },
          "metadata": {
            "needs_background": "light"
          }
        }
      ]
    },
    {
      "cell_type": "markdown",
      "metadata": {
        "id": "xduqKiHgMO-l"
      },
      "source": [
        "We can see strong negative correlations, but features also correlate with each, it can lead to additional noise for our final model."
      ]
    },
    {
      "cell_type": "code",
      "metadata": {
        "colab": {
          "base_uri": "https://localhost:8080/"
        },
        "id": "4FRd6c2DMiRU",
        "outputId": "231b8ca8-e7ad-43d4-ec23-b33817d57c78"
      },
      "source": [
        "for col in ran:\n",
        "  print(f'{scipy.stats.pearsonr(df.mpg, df[col])} \\t: {col}')"
      ],
      "execution_count": 21,
      "outputs": [
        {
          "output_type": "stream",
          "name": "stdout",
          "text": [
            "(1.0, 0.0) \t: mpg\n",
            "(-0.8350858724552517, 8.405715979370702e-98) \t: displacement\n",
            "(-0.7890045139040969, 4.524338045851071e-80) \t: horsepower\n",
            "(-0.8556931829234443, 1.2977758513626963e-107) \t: weight\n",
            "(0.4135207626523738, 9.321816059596613e-17) \t: acceleration\n"
          ]
        }
      ]
    },
    {
      "cell_type": "markdown",
      "metadata": {
        "id": "8QkQ05hlN8Sk"
      },
      "source": [
        "All p-values are much less than 0.05, hence we confirm hypothesis that correlation exists."
      ]
    },
    {
      "cell_type": "markdown",
      "metadata": {
        "id": "s8jhf0VIOM56"
      },
      "source": [
        "# Statistical analysis: influence of categorical features"
      ]
    },
    {
      "cell_type": "code",
      "metadata": {
        "colab": {
          "base_uri": "https://localhost:8080/",
          "height": 237
        },
        "id": "T8tOPix-OPX4",
        "outputId": "ca38526c-1732-4399-c302-9b9259aed01c"
      },
      "source": [
        "df.groupby('cylinders')[['mpg']].mean()"
      ],
      "execution_count": 22,
      "outputs": [
        {
          "output_type": "execute_result",
          "data": {
            "text/html": [
              "<div>\n",
              "<style scoped>\n",
              "    .dataframe tbody tr th:only-of-type {\n",
              "        vertical-align: middle;\n",
              "    }\n",
              "\n",
              "    .dataframe tbody tr th {\n",
              "        vertical-align: top;\n",
              "    }\n",
              "\n",
              "    .dataframe thead th {\n",
              "        text-align: right;\n",
              "    }\n",
              "</style>\n",
              "<table border=\"1\" class=\"dataframe\">\n",
              "  <thead>\n",
              "    <tr style=\"text-align: right;\">\n",
              "      <th></th>\n",
              "      <th>mpg</th>\n",
              "    </tr>\n",
              "    <tr>\n",
              "      <th>cylinders</th>\n",
              "      <th></th>\n",
              "    </tr>\n",
              "  </thead>\n",
              "  <tbody>\n",
              "    <tr>\n",
              "      <th>3</th>\n",
              "      <td>20.550000</td>\n",
              "    </tr>\n",
              "    <tr>\n",
              "      <th>4</th>\n",
              "      <td>28.576471</td>\n",
              "    </tr>\n",
              "    <tr>\n",
              "      <th>5</th>\n",
              "      <td>27.366667</td>\n",
              "    </tr>\n",
              "    <tr>\n",
              "      <th>6</th>\n",
              "      <td>19.161039</td>\n",
              "    </tr>\n",
              "    <tr>\n",
              "      <th>8</th>\n",
              "      <td>14.677000</td>\n",
              "    </tr>\n",
              "  </tbody>\n",
              "</table>\n",
              "</div>"
            ],
            "text/plain": [
              "                 mpg\n",
              "cylinders           \n",
              "3          20.550000\n",
              "4          28.576471\n",
              "5          27.366667\n",
              "6          19.161039\n",
              "8          14.677000"
            ]
          },
          "metadata": {},
          "execution_count": 22
        }
      ]
    },
    {
      "cell_type": "code",
      "metadata": {
        "colab": {
          "base_uri": "https://localhost:8080/",
          "height": 488
        },
        "id": "ma3DwNuIOiBC",
        "outputId": "e7592c79-f41a-48d3-dc89-3b7382be6d20"
      },
      "source": [
        "df.groupby('model_year')[['mpg']].mean()"
      ],
      "execution_count": 23,
      "outputs": [
        {
          "output_type": "execute_result",
          "data": {
            "text/html": [
              "<div>\n",
              "<style scoped>\n",
              "    .dataframe tbody tr th:only-of-type {\n",
              "        vertical-align: middle;\n",
              "    }\n",
              "\n",
              "    .dataframe tbody tr th {\n",
              "        vertical-align: top;\n",
              "    }\n",
              "\n",
              "    .dataframe thead th {\n",
              "        text-align: right;\n",
              "    }\n",
              "</style>\n",
              "<table border=\"1\" class=\"dataframe\">\n",
              "  <thead>\n",
              "    <tr style=\"text-align: right;\">\n",
              "      <th></th>\n",
              "      <th>mpg</th>\n",
              "    </tr>\n",
              "    <tr>\n",
              "      <th>model_year</th>\n",
              "      <th></th>\n",
              "    </tr>\n",
              "  </thead>\n",
              "  <tbody>\n",
              "    <tr>\n",
              "      <th>70</th>\n",
              "      <td>17.689655</td>\n",
              "    </tr>\n",
              "    <tr>\n",
              "      <th>71</th>\n",
              "      <td>21.111111</td>\n",
              "    </tr>\n",
              "    <tr>\n",
              "      <th>72</th>\n",
              "      <td>18.714286</td>\n",
              "    </tr>\n",
              "    <tr>\n",
              "      <th>73</th>\n",
              "      <td>17.100000</td>\n",
              "    </tr>\n",
              "    <tr>\n",
              "      <th>74</th>\n",
              "      <td>22.769231</td>\n",
              "    </tr>\n",
              "    <tr>\n",
              "      <th>75</th>\n",
              "      <td>20.266667</td>\n",
              "    </tr>\n",
              "    <tr>\n",
              "      <th>76</th>\n",
              "      <td>21.573529</td>\n",
              "    </tr>\n",
              "    <tr>\n",
              "      <th>77</th>\n",
              "      <td>23.375000</td>\n",
              "    </tr>\n",
              "    <tr>\n",
              "      <th>78</th>\n",
              "      <td>23.147059</td>\n",
              "    </tr>\n",
              "    <tr>\n",
              "      <th>79</th>\n",
              "      <td>24.562500</td>\n",
              "    </tr>\n",
              "    <tr>\n",
              "      <th>80</th>\n",
              "      <td>32.009091</td>\n",
              "    </tr>\n",
              "    <tr>\n",
              "      <th>81</th>\n",
              "      <td>30.145833</td>\n",
              "    </tr>\n",
              "    <tr>\n",
              "      <th>82</th>\n",
              "      <td>30.720000</td>\n",
              "    </tr>\n",
              "  </tbody>\n",
              "</table>\n",
              "</div>"
            ],
            "text/plain": [
              "                  mpg\n",
              "model_year           \n",
              "70          17.689655\n",
              "71          21.111111\n",
              "72          18.714286\n",
              "73          17.100000\n",
              "74          22.769231\n",
              "75          20.266667\n",
              "76          21.573529\n",
              "77          23.375000\n",
              "78          23.147059\n",
              "79          24.562500\n",
              "80          32.009091\n",
              "81          30.145833\n",
              "82          30.720000"
            ]
          },
          "metadata": {},
          "execution_count": 23
        }
      ]
    },
    {
      "cell_type": "code",
      "metadata": {
        "colab": {
          "base_uri": "https://localhost:8080/",
          "height": 175
        },
        "id": "HFXMW1kKOloK",
        "outputId": "ad573b35-4243-4651-85f8-863d38a8c4a9"
      },
      "source": [
        "df.groupby('origin')[['mpg']].mean()"
      ],
      "execution_count": 24,
      "outputs": [
        {
          "output_type": "execute_result",
          "data": {
            "text/html": [
              "<div>\n",
              "<style scoped>\n",
              "    .dataframe tbody tr th:only-of-type {\n",
              "        vertical-align: middle;\n",
              "    }\n",
              "\n",
              "    .dataframe tbody tr th {\n",
              "        vertical-align: top;\n",
              "    }\n",
              "\n",
              "    .dataframe thead th {\n",
              "        text-align: right;\n",
              "    }\n",
              "</style>\n",
              "<table border=\"1\" class=\"dataframe\">\n",
              "  <thead>\n",
              "    <tr style=\"text-align: right;\">\n",
              "      <th></th>\n",
              "      <th>mpg</th>\n",
              "    </tr>\n",
              "    <tr>\n",
              "      <th>origin</th>\n",
              "      <th></th>\n",
              "    </tr>\n",
              "  </thead>\n",
              "  <tbody>\n",
              "    <tr>\n",
              "      <th>1</th>\n",
              "      <td>19.400429</td>\n",
              "    </tr>\n",
              "    <tr>\n",
              "      <th>2</th>\n",
              "      <td>26.290323</td>\n",
              "    </tr>\n",
              "    <tr>\n",
              "      <th>3</th>\n",
              "      <td>30.275000</td>\n",
              "    </tr>\n",
              "  </tbody>\n",
              "</table>\n",
              "</div>"
            ],
            "text/plain": [
              "              mpg\n",
              "origin           \n",
              "1       19.400429\n",
              "2       26.290323\n",
              "3       30.275000"
            ]
          },
          "metadata": {},
          "execution_count": 24
        }
      ]
    },
    {
      "cell_type": "markdown",
      "metadata": {
        "id": "wHmkHYJJQdtt"
      },
      "source": [
        "We can check hypothesis about mean equality, but here it's quite obvious inequality"
      ]
    },
    {
      "cell_type": "code",
      "metadata": {
        "colab": {
          "base_uri": "https://localhost:8080/"
        },
        "id": "am1xX3uNOpXf",
        "outputId": "19e43c53-e33a-4b6b-efdb-8e64e3d4d7ec"
      },
      "source": [
        "fl_0 = np.array(df[df['origin']=='1']['mpg'])\n",
        "fl_1 = np.array(df[df['origin']=='2']['mpg'])\n",
        "fl_2 = np.array(df[df['origin']=='3']['mpg'])\n",
        "stats.mstats.kruskalwallis(fl_0, fl_1, fl_2)"
      ],
      "execution_count": 25,
      "outputs": [
        {
          "output_type": "execute_result",
          "data": {
            "text/plain": [
              "KruskalResult(statistic=140.21834562581196, pvalue=3.5642906927666405e-31)"
            ]
          },
          "metadata": {},
          "execution_count": 25
        }
      ]
    },
    {
      "cell_type": "markdown",
      "metadata": {
        "id": "BKgp8-97Rffr"
      },
      "source": [
        "P-value is less then 0.05, hence we do not accept hypothesis"
      ]
    },
    {
      "cell_type": "markdown",
      "metadata": {
        "id": "wYq5G3ceSBWK"
      },
      "source": [
        "# Regression analysis"
      ]
    },
    {
      "cell_type": "markdown",
      "metadata": {
        "id": "OE_XPSkLSZHH"
      },
      "source": [
        "Let's start with ols method and R-lang notation"
      ]
    },
    {
      "cell_type": "code",
      "metadata": {
        "colab": {
          "base_uri": "https://localhost:8080/"
        },
        "id": "IrWaCjMtSveS",
        "outputId": "27a62b4f-2a77-441f-ece3-57341218b35e"
      },
      "source": [
        "import statsmodels.api as sm\n",
        "import statsmodels.formula.api as smf"
      ],
      "execution_count": 26,
      "outputs": [
        {
          "output_type": "stream",
          "name": "stderr",
          "text": [
            "/usr/local/lib/python3.7/dist-packages/statsmodels/tools/_testing.py:19: FutureWarning: pandas.util.testing is deprecated. Use the functions in the public API at pandas.testing instead.\n",
            "  import pandas.util.testing as tm\n"
          ]
        }
      ]
    },
    {
      "cell_type": "code",
      "metadata": {
        "colab": {
          "base_uri": "https://localhost:8080/",
          "height": 902
        },
        "id": "2dDmU5B5Qcgq",
        "outputId": "90ce44e9-9d7d-4439-cc0f-6c9d7f37b3d3"
      },
      "source": [
        "resultsm = smf.ols('mpg ~ displacement + horsepower + weight + acceleration + C(cylinders) + C(model_year) + C(origin)', data=df).fit()\n",
        "resultsm.summary()"
      ],
      "execution_count": 27,
      "outputs": [
        {
          "output_type": "execute_result",
          "data": {
            "text/html": [
              "<table class=\"simpletable\">\n",
              "<caption>OLS Regression Results</caption>\n",
              "<tr>\n",
              "  <th>Dep. Variable:</th>           <td>mpg</td>       <th>  R-squared:         </th> <td>   0.899</td> \n",
              "</tr>\n",
              "<tr>\n",
              "  <th>Model:</th>                   <td>OLS</td>       <th>  Adj. R-squared:    </th> <td>   0.892</td> \n",
              "</tr>\n",
              "<tr>\n",
              "  <th>Method:</th>             <td>Least Squares</td>  <th>  F-statistic:       </th> <td>   140.0</td> \n",
              "</tr>\n",
              "<tr>\n",
              "  <th>Date:</th>             <td>Thu, 30 Sep 2021</td> <th>  Prob (F-statistic):</th> <td>4.38e-158</td>\n",
              "</tr>\n",
              "<tr>\n",
              "  <th>Time:</th>                 <td>21:09:29</td>     <th>  Log-Likelihood:    </th> <td> -838.58</td> \n",
              "</tr>\n",
              "<tr>\n",
              "  <th>No. Observations:</th>      <td>   371</td>      <th>  AIC:               </th> <td>   1723.</td> \n",
              "</tr>\n",
              "<tr>\n",
              "  <th>Df Residuals:</th>          <td>   348</td>      <th>  BIC:               </th> <td>   1813.</td> \n",
              "</tr>\n",
              "<tr>\n",
              "  <th>Df Model:</th>              <td>    22</td>      <th>                     </th>     <td> </td>    \n",
              "</tr>\n",
              "<tr>\n",
              "  <th>Covariance Type:</th>      <td>nonrobust</td>    <th>                     </th>     <td> </td>    \n",
              "</tr>\n",
              "</table>\n",
              "<table class=\"simpletable\">\n",
              "<tr>\n",
              "           <td></td>              <th>coef</th>     <th>std err</th>      <th>t</th>      <th>P>|t|</th>  <th>[0.025</th>    <th>0.975]</th>  \n",
              "</tr>\n",
              "<tr>\n",
              "  <th>Intercept</th>           <td>   31.0410</td> <td>    2.029</td> <td>   15.295</td> <td> 0.000</td> <td>   27.049</td> <td>   35.032</td>\n",
              "</tr>\n",
              "<tr>\n",
              "  <th>C(cylinders)[T.4]</th>   <td>    7.9589</td> <td>    1.314</td> <td>    6.057</td> <td> 0.000</td> <td>    5.374</td> <td>   10.543</td>\n",
              "</tr>\n",
              "<tr>\n",
              "  <th>C(cylinders)[T.5]</th>   <td>    8.9353</td> <td>    1.999</td> <td>    4.470</td> <td> 0.000</td> <td>    5.004</td> <td>   12.867</td>\n",
              "</tr>\n",
              "<tr>\n",
              "  <th>C(cylinders)[T.6]</th>   <td>    4.4944</td> <td>    1.482</td> <td>    3.033</td> <td> 0.003</td> <td>    1.580</td> <td>    7.409</td>\n",
              "</tr>\n",
              "<tr>\n",
              "  <th>C(cylinders)[T.8]</th>   <td>    5.7826</td> <td>    1.693</td> <td>    3.416</td> <td> 0.001</td> <td>    2.453</td> <td>    9.112</td>\n",
              "</tr>\n",
              "<tr>\n",
              "  <th>C(model_year)[T.71]</th> <td>    0.7036</td> <td>    0.688</td> <td>    1.023</td> <td> 0.307</td> <td>   -0.649</td> <td>    2.056</td>\n",
              "</tr>\n",
              "<tr>\n",
              "  <th>C(model_year)[T.72]</th> <td>   -0.7553</td> <td>    0.678</td> <td>   -1.113</td> <td> 0.266</td> <td>   -2.089</td> <td>    0.579</td>\n",
              "</tr>\n",
              "<tr>\n",
              "  <th>C(model_year)[T.73]</th> <td>   -0.6888</td> <td>    0.608</td> <td>   -1.133</td> <td> 0.258</td> <td>   -1.884</td> <td>    0.507</td>\n",
              "</tr>\n",
              "<tr>\n",
              "  <th>C(model_year)[T.74]</th> <td>    1.0204</td> <td>    0.721</td> <td>    1.415</td> <td> 0.158</td> <td>   -0.397</td> <td>    2.438</td>\n",
              "</tr>\n",
              "<tr>\n",
              "  <th>C(model_year)[T.75]</th> <td>    0.6365</td> <td>    0.707</td> <td>    0.901</td> <td> 0.368</td> <td>   -0.753</td> <td>    2.026</td>\n",
              "</tr>\n",
              "<tr>\n",
              "  <th>C(model_year)[T.76]</th> <td>    1.3753</td> <td>    0.676</td> <td>    2.033</td> <td> 0.043</td> <td>    0.045</td> <td>    2.706</td>\n",
              "</tr>\n",
              "<tr>\n",
              "  <th>C(model_year)[T.77]</th> <td>    2.7129</td> <td>    0.691</td> <td>    3.924</td> <td> 0.000</td> <td>    1.353</td> <td>    4.073</td>\n",
              "</tr>\n",
              "<tr>\n",
              "  <th>C(model_year)[T.78]</th> <td>    2.1439</td> <td>    0.665</td> <td>    3.226</td> <td> 0.001</td> <td>    0.837</td> <td>    3.451</td>\n",
              "</tr>\n",
              "<tr>\n",
              "  <th>C(model_year)[T.79]</th> <td>    4.1159</td> <td>    0.733</td> <td>    5.617</td> <td> 0.000</td> <td>    2.675</td> <td>    5.557</td>\n",
              "</tr>\n",
              "<tr>\n",
              "  <th>C(model_year)[T.80]</th> <td>    6.9611</td> <td>    0.780</td> <td>    8.923</td> <td> 0.000</td> <td>    5.427</td> <td>    8.495</td>\n",
              "</tr>\n",
              "<tr>\n",
              "  <th>C(model_year)[T.81]</th> <td>    5.4417</td> <td>    0.759</td> <td>    7.171</td> <td> 0.000</td> <td>    3.949</td> <td>    6.934</td>\n",
              "</tr>\n",
              "<tr>\n",
              "  <th>C(model_year)[T.82]</th> <td>    5.9974</td> <td>    0.749</td> <td>    8.006</td> <td> 0.000</td> <td>    4.524</td> <td>    7.471</td>\n",
              "</tr>\n",
              "<tr>\n",
              "  <th>C(origin)[T.2]</th>      <td>    0.7293</td> <td>    0.464</td> <td>    1.571</td> <td> 0.117</td> <td>   -0.184</td> <td>    1.643</td>\n",
              "</tr>\n",
              "<tr>\n",
              "  <th>C(origin)[T.3]</th>      <td>    2.6257</td> <td>    0.434</td> <td>    6.051</td> <td> 0.000</td> <td>    1.772</td> <td>    3.479</td>\n",
              "</tr>\n",
              "<tr>\n",
              "  <th>displacement</th>        <td>    0.0053</td> <td>    0.006</td> <td>    0.869</td> <td> 0.386</td> <td>   -0.007</td> <td>    0.017</td>\n",
              "</tr>\n",
              "<tr>\n",
              "  <th>horsepower</th>          <td>   -0.0405</td> <td>    0.011</td> <td>   -3.586</td> <td> 0.000</td> <td>   -0.063</td> <td>   -0.018</td>\n",
              "</tr>\n",
              "<tr>\n",
              "  <th>weight</th>              <td>   -0.0039</td> <td>    0.001</td> <td>   -7.181</td> <td> 0.000</td> <td>   -0.005</td> <td>   -0.003</td>\n",
              "</tr>\n",
              "<tr>\n",
              "  <th>acceleration</th>        <td>   -0.1653</td> <td>    0.080</td> <td>   -2.059</td> <td> 0.040</td> <td>   -0.323</td> <td>   -0.007</td>\n",
              "</tr>\n",
              "</table>\n",
              "<table class=\"simpletable\">\n",
              "<tr>\n",
              "  <th>Omnibus:</th>       <td> 7.869</td> <th>  Durbin-Watson:     </th> <td>   1.532</td>\n",
              "</tr>\n",
              "<tr>\n",
              "  <th>Prob(Omnibus):</th> <td> 0.020</td> <th>  Jarque-Bera (JB):  </th> <td>  10.145</td>\n",
              "</tr>\n",
              "<tr>\n",
              "  <th>Skew:</th>          <td> 0.189</td> <th>  Prob(JB):          </th> <td> 0.00627</td>\n",
              "</tr>\n",
              "<tr>\n",
              "  <th>Kurtosis:</th>      <td> 3.717</td> <th>  Cond. No.          </th> <td>7.92e+04</td>\n",
              "</tr>\n",
              "</table><br/><br/>Warnings:<br/>[1] Standard Errors assume that the covariance matrix of the errors is correctly specified.<br/>[2] The condition number is large, 7.92e+04. This might indicate that there are<br/>strong multicollinearity or other numerical problems."
            ],
            "text/plain": [
              "<class 'statsmodels.iolib.summary.Summary'>\n",
              "\"\"\"\n",
              "                            OLS Regression Results                            \n",
              "==============================================================================\n",
              "Dep. Variable:                    mpg   R-squared:                       0.899\n",
              "Model:                            OLS   Adj. R-squared:                  0.892\n",
              "Method:                 Least Squares   F-statistic:                     140.0\n",
              "Date:                Thu, 30 Sep 2021   Prob (F-statistic):          4.38e-158\n",
              "Time:                        21:09:29   Log-Likelihood:                -838.58\n",
              "No. Observations:                 371   AIC:                             1723.\n",
              "Df Residuals:                     348   BIC:                             1813.\n",
              "Df Model:                          22                                         \n",
              "Covariance Type:            nonrobust                                         \n",
              "=======================================================================================\n",
              "                          coef    std err          t      P>|t|      [0.025      0.975]\n",
              "---------------------------------------------------------------------------------------\n",
              "Intercept              31.0410      2.029     15.295      0.000      27.049      35.032\n",
              "C(cylinders)[T.4]       7.9589      1.314      6.057      0.000       5.374      10.543\n",
              "C(cylinders)[T.5]       8.9353      1.999      4.470      0.000       5.004      12.867\n",
              "C(cylinders)[T.6]       4.4944      1.482      3.033      0.003       1.580       7.409\n",
              "C(cylinders)[T.8]       5.7826      1.693      3.416      0.001       2.453       9.112\n",
              "C(model_year)[T.71]     0.7036      0.688      1.023      0.307      -0.649       2.056\n",
              "C(model_year)[T.72]    -0.7553      0.678     -1.113      0.266      -2.089       0.579\n",
              "C(model_year)[T.73]    -0.6888      0.608     -1.133      0.258      -1.884       0.507\n",
              "C(model_year)[T.74]     1.0204      0.721      1.415      0.158      -0.397       2.438\n",
              "C(model_year)[T.75]     0.6365      0.707      0.901      0.368      -0.753       2.026\n",
              "C(model_year)[T.76]     1.3753      0.676      2.033      0.043       0.045       2.706\n",
              "C(model_year)[T.77]     2.7129      0.691      3.924      0.000       1.353       4.073\n",
              "C(model_year)[T.78]     2.1439      0.665      3.226      0.001       0.837       3.451\n",
              "C(model_year)[T.79]     4.1159      0.733      5.617      0.000       2.675       5.557\n",
              "C(model_year)[T.80]     6.9611      0.780      8.923      0.000       5.427       8.495\n",
              "C(model_year)[T.81]     5.4417      0.759      7.171      0.000       3.949       6.934\n",
              "C(model_year)[T.82]     5.9974      0.749      8.006      0.000       4.524       7.471\n",
              "C(origin)[T.2]          0.7293      0.464      1.571      0.117      -0.184       1.643\n",
              "C(origin)[T.3]          2.6257      0.434      6.051      0.000       1.772       3.479\n",
              "displacement            0.0053      0.006      0.869      0.386      -0.007       0.017\n",
              "horsepower             -0.0405      0.011     -3.586      0.000      -0.063      -0.018\n",
              "weight                 -0.0039      0.001     -7.181      0.000      -0.005      -0.003\n",
              "acceleration           -0.1653      0.080     -2.059      0.040      -0.323      -0.007\n",
              "==============================================================================\n",
              "Omnibus:                        7.869   Durbin-Watson:                   1.532\n",
              "Prob(Omnibus):                  0.020   Jarque-Bera (JB):               10.145\n",
              "Skew:                           0.189   Prob(JB):                      0.00627\n",
              "Kurtosis:                       3.717   Cond. No.                     7.92e+04\n",
              "==============================================================================\n",
              "\n",
              "Warnings:\n",
              "[1] Standard Errors assume that the covariance matrix of the errors is correctly specified.\n",
              "[2] The condition number is large, 7.92e+04. This might indicate that there are\n",
              "strong multicollinearity or other numerical problems.\n",
              "\"\"\""
            ]
          },
          "metadata": {},
          "execution_count": 27
        }
      ]
    },
    {
      "cell_type": "markdown",
      "metadata": {
        "id": "E2RZQyXNTGgJ"
      },
      "source": [
        "Let's rebuild a model without features with P-val > 0.05"
      ]
    },
    {
      "cell_type": "code",
      "metadata": {
        "id": "_H-Dmj3KTF5k"
      },
      "source": [
        "df_new = df.drop(df[(df.model_year == '71') | (df.model_year == '72') | (df.model_year == '73') | (df.model_year == '74') | (df.model_year == '75') | (df.origin == '2')].index)"
      ],
      "execution_count": 28,
      "outputs": []
    },
    {
      "cell_type": "code",
      "metadata": {
        "colab": {
          "base_uri": "https://localhost:8080/",
          "height": 738
        },
        "id": "EMEkaVvkSrdW",
        "outputId": "b9ef860c-8e5c-4b93-8968-32f503e22a51"
      },
      "source": [
        "resultsm = smf.ols('mpg ~ horsepower + weight + acceleration + C(cylinders) + C(model_year) + C(origin)', data=df_new).fit()\n",
        "resultsm.summary()"
      ],
      "execution_count": 29,
      "outputs": [
        {
          "output_type": "execute_result",
          "data": {
            "text/html": [
              "<table class=\"simpletable\">\n",
              "<caption>OLS Regression Results</caption>\n",
              "<tr>\n",
              "  <th>Dep. Variable:</th>           <td>mpg</td>       <th>  R-squared:         </th> <td>   0.905</td>\n",
              "</tr>\n",
              "<tr>\n",
              "  <th>Model:</th>                   <td>OLS</td>       <th>  Adj. R-squared:    </th> <td>   0.897</td>\n",
              "</tr>\n",
              "<tr>\n",
              "  <th>Method:</th>             <td>Least Squares</td>  <th>  F-statistic:       </th> <td>   116.0</td>\n",
              "</tr>\n",
              "<tr>\n",
              "  <th>Date:</th>             <td>Thu, 30 Sep 2021</td> <th>  Prob (F-statistic):</th> <td>1.85e-79</td>\n",
              "</tr>\n",
              "<tr>\n",
              "  <th>Time:</th>                 <td>21:09:29</td>     <th>  Log-Likelihood:    </th> <td> -421.97</td>\n",
              "</tr>\n",
              "<tr>\n",
              "  <th>No. Observations:</th>      <td>   186</td>      <th>  AIC:               </th> <td>   873.9</td>\n",
              "</tr>\n",
              "<tr>\n",
              "  <th>Df Residuals:</th>          <td>   171</td>      <th>  BIC:               </th> <td>   922.3</td>\n",
              "</tr>\n",
              "<tr>\n",
              "  <th>Df Model:</th>              <td>    14</td>      <th>                     </th>     <td> </td>   \n",
              "</tr>\n",
              "<tr>\n",
              "  <th>Covariance Type:</th>      <td>nonrobust</td>    <th>                     </th>     <td> </td>   \n",
              "</tr>\n",
              "</table>\n",
              "<table class=\"simpletable\">\n",
              "<tr>\n",
              "           <td></td>              <th>coef</th>     <th>std err</th>      <th>t</th>      <th>P>|t|</th>  <th>[0.025</th>    <th>0.975]</th>  \n",
              "</tr>\n",
              "<tr>\n",
              "  <th>Intercept</th>           <td>   34.5517</td> <td>    2.934</td> <td>   11.775</td> <td> 0.000</td> <td>   28.760</td> <td>   40.344</td>\n",
              "</tr>\n",
              "<tr>\n",
              "  <th>C(cylinders)[T.4]</th>   <td>    8.1806</td> <td>    1.839</td> <td>    4.448</td> <td> 0.000</td> <td>    4.550</td> <td>   11.811</td>\n",
              "</tr>\n",
              "<tr>\n",
              "  <th>C(cylinders)[T.6]</th>   <td>    5.2846</td> <td>    1.918</td> <td>    2.755</td> <td> 0.007</td> <td>    1.498</td> <td>    9.071</td>\n",
              "</tr>\n",
              "<tr>\n",
              "  <th>C(cylinders)[T.8]</th>   <td>    6.4000</td> <td>    2.001</td> <td>    3.199</td> <td> 0.002</td> <td>    2.450</td> <td>   10.350</td>\n",
              "</tr>\n",
              "<tr>\n",
              "  <th>C(model_year)[T.76]</th> <td>    1.5372</td> <td>    0.851</td> <td>    1.807</td> <td> 0.073</td> <td>   -0.142</td> <td>    3.217</td>\n",
              "</tr>\n",
              "<tr>\n",
              "  <th>C(model_year)[T.77]</th> <td>    2.5019</td> <td>    0.843</td> <td>    2.969</td> <td> 0.003</td> <td>    0.839</td> <td>    4.165</td>\n",
              "</tr>\n",
              "<tr>\n",
              "  <th>C(model_year)[T.78]</th> <td>    2.1128</td> <td>    0.806</td> <td>    2.621</td> <td> 0.010</td> <td>    0.522</td> <td>    3.704</td>\n",
              "</tr>\n",
              "<tr>\n",
              "  <th>C(model_year)[T.79]</th> <td>    3.5890</td> <td>    0.881</td> <td>    4.074</td> <td> 0.000</td> <td>    1.850</td> <td>    5.328</td>\n",
              "</tr>\n",
              "<tr>\n",
              "  <th>C(model_year)[T.80]</th> <td>    5.9059</td> <td>    0.993</td> <td>    5.946</td> <td> 0.000</td> <td>    3.945</td> <td>    7.867</td>\n",
              "</tr>\n",
              "<tr>\n",
              "  <th>C(model_year)[T.81]</th> <td>    4.5460</td> <td>    0.908</td> <td>    5.007</td> <td> 0.000</td> <td>    2.754</td> <td>    6.338</td>\n",
              "</tr>\n",
              "<tr>\n",
              "  <th>C(model_year)[T.82]</th> <td>    5.0974</td> <td>    0.897</td> <td>    5.680</td> <td> 0.000</td> <td>    3.326</td> <td>    6.869</td>\n",
              "</tr>\n",
              "<tr>\n",
              "  <th>C(origin)[T.3]</th>      <td>    2.2238</td> <td>    0.536</td> <td>    4.150</td> <td> 0.000</td> <td>    1.166</td> <td>    3.282</td>\n",
              "</tr>\n",
              "<tr>\n",
              "  <th>horsepower</th>          <td>   -0.0277</td> <td>    0.015</td> <td>   -1.825</td> <td> 0.070</td> <td>   -0.058</td> <td>    0.002</td>\n",
              "</tr>\n",
              "<tr>\n",
              "  <th>weight</th>              <td>   -0.0051</td> <td>    0.001</td> <td>   -6.119</td> <td> 0.000</td> <td>   -0.007</td> <td>   -0.003</td>\n",
              "</tr>\n",
              "<tr>\n",
              "  <th>acceleration</th>        <td>   -0.1864</td> <td>    0.111</td> <td>   -1.673</td> <td> 0.096</td> <td>   -0.406</td> <td>    0.034</td>\n",
              "</tr>\n",
              "</table>\n",
              "<table class=\"simpletable\">\n",
              "<tr>\n",
              "  <th>Omnibus:</th>       <td> 6.282</td> <th>  Durbin-Watson:     </th> <td>   1.598</td>\n",
              "</tr>\n",
              "<tr>\n",
              "  <th>Prob(Omnibus):</th> <td> 0.043</td> <th>  Jarque-Bera (JB):  </th> <td>   7.360</td>\n",
              "</tr>\n",
              "<tr>\n",
              "  <th>Skew:</th>          <td> 0.257</td> <th>  Prob(JB):          </th> <td>  0.0252</td>\n",
              "</tr>\n",
              "<tr>\n",
              "  <th>Kurtosis:</th>      <td> 3.828</td> <th>  Cond. No.          </th> <td>6.51e+04</td>\n",
              "</tr>\n",
              "</table><br/><br/>Warnings:<br/>[1] Standard Errors assume that the covariance matrix of the errors is correctly specified.<br/>[2] The condition number is large, 6.51e+04. This might indicate that there are<br/>strong multicollinearity or other numerical problems."
            ],
            "text/plain": [
              "<class 'statsmodels.iolib.summary.Summary'>\n",
              "\"\"\"\n",
              "                            OLS Regression Results                            \n",
              "==============================================================================\n",
              "Dep. Variable:                    mpg   R-squared:                       0.905\n",
              "Model:                            OLS   Adj. R-squared:                  0.897\n",
              "Method:                 Least Squares   F-statistic:                     116.0\n",
              "Date:                Thu, 30 Sep 2021   Prob (F-statistic):           1.85e-79\n",
              "Time:                        21:09:29   Log-Likelihood:                -421.97\n",
              "No. Observations:                 186   AIC:                             873.9\n",
              "Df Residuals:                     171   BIC:                             922.3\n",
              "Df Model:                          14                                         \n",
              "Covariance Type:            nonrobust                                         \n",
              "=======================================================================================\n",
              "                          coef    std err          t      P>|t|      [0.025      0.975]\n",
              "---------------------------------------------------------------------------------------\n",
              "Intercept              34.5517      2.934     11.775      0.000      28.760      40.344\n",
              "C(cylinders)[T.4]       8.1806      1.839      4.448      0.000       4.550      11.811\n",
              "C(cylinders)[T.6]       5.2846      1.918      2.755      0.007       1.498       9.071\n",
              "C(cylinders)[T.8]       6.4000      2.001      3.199      0.002       2.450      10.350\n",
              "C(model_year)[T.76]     1.5372      0.851      1.807      0.073      -0.142       3.217\n",
              "C(model_year)[T.77]     2.5019      0.843      2.969      0.003       0.839       4.165\n",
              "C(model_year)[T.78]     2.1128      0.806      2.621      0.010       0.522       3.704\n",
              "C(model_year)[T.79]     3.5890      0.881      4.074      0.000       1.850       5.328\n",
              "C(model_year)[T.80]     5.9059      0.993      5.946      0.000       3.945       7.867\n",
              "C(model_year)[T.81]     4.5460      0.908      5.007      0.000       2.754       6.338\n",
              "C(model_year)[T.82]     5.0974      0.897      5.680      0.000       3.326       6.869\n",
              "C(origin)[T.3]          2.2238      0.536      4.150      0.000       1.166       3.282\n",
              "horsepower             -0.0277      0.015     -1.825      0.070      -0.058       0.002\n",
              "weight                 -0.0051      0.001     -6.119      0.000      -0.007      -0.003\n",
              "acceleration           -0.1864      0.111     -1.673      0.096      -0.406       0.034\n",
              "==============================================================================\n",
              "Omnibus:                        6.282   Durbin-Watson:                   1.598\n",
              "Prob(Omnibus):                  0.043   Jarque-Bera (JB):                7.360\n",
              "Skew:                           0.257   Prob(JB):                       0.0252\n",
              "Kurtosis:                       3.828   Cond. No.                     6.51e+04\n",
              "==============================================================================\n",
              "\n",
              "Warnings:\n",
              "[1] Standard Errors assume that the covariance matrix of the errors is correctly specified.\n",
              "[2] The condition number is large, 6.51e+04. This might indicate that there are\n",
              "strong multicollinearity or other numerical problems.\n",
              "\"\"\""
            ]
          },
          "metadata": {},
          "execution_count": 29
        }
      ]
    },
    {
      "cell_type": "code",
      "metadata": {
        "id": "dUhwM-k5W4nj"
      },
      "source": [
        "# update our model once again\n",
        "df_new = df_new.drop(df_new[df_new.model_year == '76'].index)"
      ],
      "execution_count": 30,
      "outputs": []
    },
    {
      "cell_type": "code",
      "metadata": {
        "colab": {
          "base_uri": "https://localhost:8080/",
          "height": 676
        },
        "id": "FpE5SgW7XgoU",
        "outputId": "786dc7d8-8216-4c53-a74e-82abe98759da"
      },
      "source": [
        "# parameters correlate a lot with each other, so finally we use only those which have a large effect\n",
        "resultsm = smf.ols('mpg ~ weight + C(cylinders) + C(model_year) + C(origin)', data=df_new).fit()\n",
        "resultsm.summary()"
      ],
      "execution_count": 31,
      "outputs": [
        {
          "output_type": "execute_result",
          "data": {
            "text/html": [
              "<table class=\"simpletable\">\n",
              "<caption>OLS Regression Results</caption>\n",
              "<tr>\n",
              "  <th>Dep. Variable:</th>           <td>mpg</td>       <th>  R-squared:         </th> <td>   0.908</td>\n",
              "</tr>\n",
              "<tr>\n",
              "  <th>Model:</th>                   <td>OLS</td>       <th>  Adj. R-squared:    </th> <td>   0.901</td>\n",
              "</tr>\n",
              "<tr>\n",
              "  <th>Method:</th>             <td>Least Squares</td>  <th>  F-statistic:       </th> <td>   132.6</td>\n",
              "</tr>\n",
              "<tr>\n",
              "  <th>Date:</th>             <td>Thu, 30 Sep 2021</td> <th>  Prob (F-statistic):</th> <td>8.74e-71</td>\n",
              "</tr>\n",
              "<tr>\n",
              "  <th>Time:</th>                 <td>21:09:29</td>     <th>  Log-Likelihood:    </th> <td> -361.97</td>\n",
              "</tr>\n",
              "<tr>\n",
              "  <th>No. Observations:</th>      <td>   160</td>      <th>  AIC:               </th> <td>   747.9</td>\n",
              "</tr>\n",
              "<tr>\n",
              "  <th>Df Residuals:</th>          <td>   148</td>      <th>  BIC:               </th> <td>   784.9</td>\n",
              "</tr>\n",
              "<tr>\n",
              "  <th>Df Model:</th>              <td>    11</td>      <th>                     </th>     <td> </td>   \n",
              "</tr>\n",
              "<tr>\n",
              "  <th>Covariance Type:</th>      <td>nonrobust</td>    <th>                     </th>     <td> </td>   \n",
              "</tr>\n",
              "</table>\n",
              "<table class=\"simpletable\">\n",
              "<tr>\n",
              "           <td></td>              <th>coef</th>     <th>std err</th>      <th>t</th>      <th>P>|t|</th>  <th>[0.025</th>    <th>0.975]</th>  \n",
              "</tr>\n",
              "<tr>\n",
              "  <th>Intercept</th>           <td>   32.8904</td> <td>    2.593</td> <td>   12.684</td> <td> 0.000</td> <td>   27.766</td> <td>   38.015</td>\n",
              "</tr>\n",
              "<tr>\n",
              "  <th>C(cylinders)[T.4]</th>   <td>    7.9295</td> <td>    1.786</td> <td>    4.440</td> <td> 0.000</td> <td>    4.400</td> <td>   11.459</td>\n",
              "</tr>\n",
              "<tr>\n",
              "  <th>C(cylinders)[T.6]</th>   <td>    5.1578</td> <td>    1.876</td> <td>    2.749</td> <td> 0.007</td> <td>    1.451</td> <td>    8.865</td>\n",
              "</tr>\n",
              "<tr>\n",
              "  <th>C(cylinders)[T.8]</th>   <td>    7.1999</td> <td>    2.004</td> <td>    3.593</td> <td> 0.000</td> <td>    3.240</td> <td>   11.160</td>\n",
              "</tr>\n",
              "<tr>\n",
              "  <th>C(model_year)[T.77]</th> <td>    3.0646</td> <td>    0.748</td> <td>    4.098</td> <td> 0.000</td> <td>    1.587</td> <td>    4.542</td>\n",
              "</tr>\n",
              "<tr>\n",
              "  <th>C(model_year)[T.78]</th> <td>    2.6617</td> <td>    0.733</td> <td>    3.633</td> <td> 0.000</td> <td>    1.214</td> <td>    4.110</td>\n",
              "</tr>\n",
              "<tr>\n",
              "  <th>C(model_year)[T.79]</th> <td>    4.2140</td> <td>    0.764</td> <td>    5.519</td> <td> 0.000</td> <td>    2.705</td> <td>    5.723</td>\n",
              "</tr>\n",
              "<tr>\n",
              "  <th>C(model_year)[T.80]</th> <td>    6.4361</td> <td>    0.913</td> <td>    7.046</td> <td> 0.000</td> <td>    4.631</td> <td>    8.241</td>\n",
              "</tr>\n",
              "<tr>\n",
              "  <th>C(model_year)[T.81]</th> <td>    5.1302</td> <td>    0.838</td> <td>    6.126</td> <td> 0.000</td> <td>    3.475</td> <td>    6.785</td>\n",
              "</tr>\n",
              "<tr>\n",
              "  <th>C(model_year)[T.82]</th> <td>    5.5474</td> <td>    0.846</td> <td>    6.560</td> <td> 0.000</td> <td>    3.876</td> <td>    7.219</td>\n",
              "</tr>\n",
              "<tr>\n",
              "  <th>C(origin)[T.3]</th>      <td>    2.0147</td> <td>    0.560</td> <td>    3.599</td> <td> 0.000</td> <td>    0.909</td> <td>    3.121</td>\n",
              "</tr>\n",
              "<tr>\n",
              "  <th>weight</th>              <td>   -0.0066</td> <td>    0.001</td> <td>  -10.468</td> <td> 0.000</td> <td>   -0.008</td> <td>   -0.005</td>\n",
              "</tr>\n",
              "</table>\n",
              "<table class=\"simpletable\">\n",
              "<tr>\n",
              "  <th>Omnibus:</th>       <td> 6.013</td> <th>  Durbin-Watson:     </th> <td>   1.678</td>\n",
              "</tr>\n",
              "<tr>\n",
              "  <th>Prob(Omnibus):</th> <td> 0.049</td> <th>  Jarque-Bera (JB):  </th> <td>   8.328</td>\n",
              "</tr>\n",
              "<tr>\n",
              "  <th>Skew:</th>          <td> 0.169</td> <th>  Prob(JB):          </th> <td>  0.0155</td>\n",
              "</tr>\n",
              "<tr>\n",
              "  <th>Kurtosis:</th>      <td> 4.065</td> <th>  Cond. No.          </th> <td>5.80e+04</td>\n",
              "</tr>\n",
              "</table><br/><br/>Warnings:<br/>[1] Standard Errors assume that the covariance matrix of the errors is correctly specified.<br/>[2] The condition number is large, 5.8e+04. This might indicate that there are<br/>strong multicollinearity or other numerical problems."
            ],
            "text/plain": [
              "<class 'statsmodels.iolib.summary.Summary'>\n",
              "\"\"\"\n",
              "                            OLS Regression Results                            \n",
              "==============================================================================\n",
              "Dep. Variable:                    mpg   R-squared:                       0.908\n",
              "Model:                            OLS   Adj. R-squared:                  0.901\n",
              "Method:                 Least Squares   F-statistic:                     132.6\n",
              "Date:                Thu, 30 Sep 2021   Prob (F-statistic):           8.74e-71\n",
              "Time:                        21:09:29   Log-Likelihood:                -361.97\n",
              "No. Observations:                 160   AIC:                             747.9\n",
              "Df Residuals:                     148   BIC:                             784.9\n",
              "Df Model:                          11                                         \n",
              "Covariance Type:            nonrobust                                         \n",
              "=======================================================================================\n",
              "                          coef    std err          t      P>|t|      [0.025      0.975]\n",
              "---------------------------------------------------------------------------------------\n",
              "Intercept              32.8904      2.593     12.684      0.000      27.766      38.015\n",
              "C(cylinders)[T.4]       7.9295      1.786      4.440      0.000       4.400      11.459\n",
              "C(cylinders)[T.6]       5.1578      1.876      2.749      0.007       1.451       8.865\n",
              "C(cylinders)[T.8]       7.1999      2.004      3.593      0.000       3.240      11.160\n",
              "C(model_year)[T.77]     3.0646      0.748      4.098      0.000       1.587       4.542\n",
              "C(model_year)[T.78]     2.6617      0.733      3.633      0.000       1.214       4.110\n",
              "C(model_year)[T.79]     4.2140      0.764      5.519      0.000       2.705       5.723\n",
              "C(model_year)[T.80]     6.4361      0.913      7.046      0.000       4.631       8.241\n",
              "C(model_year)[T.81]     5.1302      0.838      6.126      0.000       3.475       6.785\n",
              "C(model_year)[T.82]     5.5474      0.846      6.560      0.000       3.876       7.219\n",
              "C(origin)[T.3]          2.0147      0.560      3.599      0.000       0.909       3.121\n",
              "weight                 -0.0066      0.001    -10.468      0.000      -0.008      -0.005\n",
              "==============================================================================\n",
              "Omnibus:                        6.013   Durbin-Watson:                   1.678\n",
              "Prob(Omnibus):                  0.049   Jarque-Bera (JB):                8.328\n",
              "Skew:                           0.169   Prob(JB):                       0.0155\n",
              "Kurtosis:                       4.065   Cond. No.                     5.80e+04\n",
              "==============================================================================\n",
              "\n",
              "Warnings:\n",
              "[1] Standard Errors assume that the covariance matrix of the errors is correctly specified.\n",
              "[2] The condition number is large, 5.8e+04. This might indicate that there are\n",
              "strong multicollinearity or other numerical problems.\n",
              "\"\"\""
            ]
          },
          "metadata": {},
          "execution_count": 31
        }
      ]
    },
    {
      "cell_type": "markdown",
      "metadata": {
        "id": "s6_ansRlWuml"
      },
      "source": [
        "Finally, we have a model with R-squared = 0.908. Kurtosis is close to 3, skew is close to zero and we can accept the hypothesis about normality because of Jarque-Bera test result (p-value is less than 0.0155), hence we built a good model."
      ]
    },
    {
      "cell_type": "markdown",
      "metadata": {
        "id": "nbQcQHmBZueK"
      },
      "source": [
        "Now let's use other models from sklearn"
      ]
    },
    {
      "cell_type": "code",
      "metadata": {
        "colab": {
          "base_uri": "https://localhost:8080/",
          "height": 443
        },
        "id": "HZfZL34TWVq8",
        "outputId": "0fe9a0fa-7d12-45ce-8e4f-fa3afd26d934"
      },
      "source": [
        "df_wide = pd.concat((df,pd.get_dummies(df.cylinders, prefix=\"cyl_\", prefix_sep='',)),1)\n",
        "df_wide = pd.concat((df_wide,pd.get_dummies(df_wide.model_year, prefix=\"my_\", prefix_sep='',)),1)\n",
        "df_wide = pd.concat((df_wide,pd.get_dummies(df_wide.origin, prefix=\"or_\", prefix_sep='',)),1)\n",
        "df_wide"
      ],
      "execution_count": 32,
      "outputs": [
        {
          "output_type": "execute_result",
          "data": {
            "text/html": [
              "<div>\n",
              "<style scoped>\n",
              "    .dataframe tbody tr th:only-of-type {\n",
              "        vertical-align: middle;\n",
              "    }\n",
              "\n",
              "    .dataframe tbody tr th {\n",
              "        vertical-align: top;\n",
              "    }\n",
              "\n",
              "    .dataframe thead th {\n",
              "        text-align: right;\n",
              "    }\n",
              "</style>\n",
              "<table border=\"1\" class=\"dataframe\">\n",
              "  <thead>\n",
              "    <tr style=\"text-align: right;\">\n",
              "      <th></th>\n",
              "      <th>mpg</th>\n",
              "      <th>cylinders</th>\n",
              "      <th>displacement</th>\n",
              "      <th>horsepower</th>\n",
              "      <th>weight</th>\n",
              "      <th>acceleration</th>\n",
              "      <th>model_year</th>\n",
              "      <th>origin</th>\n",
              "      <th>cyl_3</th>\n",
              "      <th>cyl_4</th>\n",
              "      <th>cyl_5</th>\n",
              "      <th>cyl_6</th>\n",
              "      <th>cyl_8</th>\n",
              "      <th>my_70</th>\n",
              "      <th>my_71</th>\n",
              "      <th>my_72</th>\n",
              "      <th>my_73</th>\n",
              "      <th>my_74</th>\n",
              "      <th>my_75</th>\n",
              "      <th>my_76</th>\n",
              "      <th>my_77</th>\n",
              "      <th>my_78</th>\n",
              "      <th>my_79</th>\n",
              "      <th>my_80</th>\n",
              "      <th>my_81</th>\n",
              "      <th>my_82</th>\n",
              "      <th>or_1</th>\n",
              "      <th>or_2</th>\n",
              "      <th>or_3</th>\n",
              "    </tr>\n",
              "  </thead>\n",
              "  <tbody>\n",
              "    <tr>\n",
              "      <th>0</th>\n",
              "      <td>18.0</td>\n",
              "      <td>8</td>\n",
              "      <td>307.0</td>\n",
              "      <td>130.0</td>\n",
              "      <td>3504.0</td>\n",
              "      <td>12.0</td>\n",
              "      <td>70</td>\n",
              "      <td>1</td>\n",
              "      <td>0</td>\n",
              "      <td>0</td>\n",
              "      <td>0</td>\n",
              "      <td>0</td>\n",
              "      <td>1</td>\n",
              "      <td>1</td>\n",
              "      <td>0</td>\n",
              "      <td>0</td>\n",
              "      <td>0</td>\n",
              "      <td>0</td>\n",
              "      <td>0</td>\n",
              "      <td>0</td>\n",
              "      <td>0</td>\n",
              "      <td>0</td>\n",
              "      <td>0</td>\n",
              "      <td>0</td>\n",
              "      <td>0</td>\n",
              "      <td>0</td>\n",
              "      <td>1</td>\n",
              "      <td>0</td>\n",
              "      <td>0</td>\n",
              "    </tr>\n",
              "    <tr>\n",
              "      <th>1</th>\n",
              "      <td>15.0</td>\n",
              "      <td>8</td>\n",
              "      <td>350.0</td>\n",
              "      <td>165.0</td>\n",
              "      <td>3693.0</td>\n",
              "      <td>11.5</td>\n",
              "      <td>70</td>\n",
              "      <td>1</td>\n",
              "      <td>0</td>\n",
              "      <td>0</td>\n",
              "      <td>0</td>\n",
              "      <td>0</td>\n",
              "      <td>1</td>\n",
              "      <td>1</td>\n",
              "      <td>0</td>\n",
              "      <td>0</td>\n",
              "      <td>0</td>\n",
              "      <td>0</td>\n",
              "      <td>0</td>\n",
              "      <td>0</td>\n",
              "      <td>0</td>\n",
              "      <td>0</td>\n",
              "      <td>0</td>\n",
              "      <td>0</td>\n",
              "      <td>0</td>\n",
              "      <td>0</td>\n",
              "      <td>1</td>\n",
              "      <td>0</td>\n",
              "      <td>0</td>\n",
              "    </tr>\n",
              "    <tr>\n",
              "      <th>2</th>\n",
              "      <td>18.0</td>\n",
              "      <td>8</td>\n",
              "      <td>318.0</td>\n",
              "      <td>150.0</td>\n",
              "      <td>3436.0</td>\n",
              "      <td>11.0</td>\n",
              "      <td>70</td>\n",
              "      <td>1</td>\n",
              "      <td>0</td>\n",
              "      <td>0</td>\n",
              "      <td>0</td>\n",
              "      <td>0</td>\n",
              "      <td>1</td>\n",
              "      <td>1</td>\n",
              "      <td>0</td>\n",
              "      <td>0</td>\n",
              "      <td>0</td>\n",
              "      <td>0</td>\n",
              "      <td>0</td>\n",
              "      <td>0</td>\n",
              "      <td>0</td>\n",
              "      <td>0</td>\n",
              "      <td>0</td>\n",
              "      <td>0</td>\n",
              "      <td>0</td>\n",
              "      <td>0</td>\n",
              "      <td>1</td>\n",
              "      <td>0</td>\n",
              "      <td>0</td>\n",
              "    </tr>\n",
              "    <tr>\n",
              "      <th>3</th>\n",
              "      <td>16.0</td>\n",
              "      <td>8</td>\n",
              "      <td>304.0</td>\n",
              "      <td>150.0</td>\n",
              "      <td>3433.0</td>\n",
              "      <td>12.0</td>\n",
              "      <td>70</td>\n",
              "      <td>1</td>\n",
              "      <td>0</td>\n",
              "      <td>0</td>\n",
              "      <td>0</td>\n",
              "      <td>0</td>\n",
              "      <td>1</td>\n",
              "      <td>1</td>\n",
              "      <td>0</td>\n",
              "      <td>0</td>\n",
              "      <td>0</td>\n",
              "      <td>0</td>\n",
              "      <td>0</td>\n",
              "      <td>0</td>\n",
              "      <td>0</td>\n",
              "      <td>0</td>\n",
              "      <td>0</td>\n",
              "      <td>0</td>\n",
              "      <td>0</td>\n",
              "      <td>0</td>\n",
              "      <td>1</td>\n",
              "      <td>0</td>\n",
              "      <td>0</td>\n",
              "    </tr>\n",
              "    <tr>\n",
              "      <th>4</th>\n",
              "      <td>17.0</td>\n",
              "      <td>8</td>\n",
              "      <td>302.0</td>\n",
              "      <td>140.0</td>\n",
              "      <td>3449.0</td>\n",
              "      <td>10.5</td>\n",
              "      <td>70</td>\n",
              "      <td>1</td>\n",
              "      <td>0</td>\n",
              "      <td>0</td>\n",
              "      <td>0</td>\n",
              "      <td>0</td>\n",
              "      <td>1</td>\n",
              "      <td>1</td>\n",
              "      <td>0</td>\n",
              "      <td>0</td>\n",
              "      <td>0</td>\n",
              "      <td>0</td>\n",
              "      <td>0</td>\n",
              "      <td>0</td>\n",
              "      <td>0</td>\n",
              "      <td>0</td>\n",
              "      <td>0</td>\n",
              "      <td>0</td>\n",
              "      <td>0</td>\n",
              "      <td>0</td>\n",
              "      <td>1</td>\n",
              "      <td>0</td>\n",
              "      <td>0</td>\n",
              "    </tr>\n",
              "    <tr>\n",
              "      <th>...</th>\n",
              "      <td>...</td>\n",
              "      <td>...</td>\n",
              "      <td>...</td>\n",
              "      <td>...</td>\n",
              "      <td>...</td>\n",
              "      <td>...</td>\n",
              "      <td>...</td>\n",
              "      <td>...</td>\n",
              "      <td>...</td>\n",
              "      <td>...</td>\n",
              "      <td>...</td>\n",
              "      <td>...</td>\n",
              "      <td>...</td>\n",
              "      <td>...</td>\n",
              "      <td>...</td>\n",
              "      <td>...</td>\n",
              "      <td>...</td>\n",
              "      <td>...</td>\n",
              "      <td>...</td>\n",
              "      <td>...</td>\n",
              "      <td>...</td>\n",
              "      <td>...</td>\n",
              "      <td>...</td>\n",
              "      <td>...</td>\n",
              "      <td>...</td>\n",
              "      <td>...</td>\n",
              "      <td>...</td>\n",
              "      <td>...</td>\n",
              "      <td>...</td>\n",
              "    </tr>\n",
              "    <tr>\n",
              "      <th>392</th>\n",
              "      <td>27.0</td>\n",
              "      <td>4</td>\n",
              "      <td>151.0</td>\n",
              "      <td>90.0</td>\n",
              "      <td>2950.0</td>\n",
              "      <td>17.3</td>\n",
              "      <td>82</td>\n",
              "      <td>1</td>\n",
              "      <td>0</td>\n",
              "      <td>1</td>\n",
              "      <td>0</td>\n",
              "      <td>0</td>\n",
              "      <td>0</td>\n",
              "      <td>0</td>\n",
              "      <td>0</td>\n",
              "      <td>0</td>\n",
              "      <td>0</td>\n",
              "      <td>0</td>\n",
              "      <td>0</td>\n",
              "      <td>0</td>\n",
              "      <td>0</td>\n",
              "      <td>0</td>\n",
              "      <td>0</td>\n",
              "      <td>0</td>\n",
              "      <td>0</td>\n",
              "      <td>1</td>\n",
              "      <td>1</td>\n",
              "      <td>0</td>\n",
              "      <td>0</td>\n",
              "    </tr>\n",
              "    <tr>\n",
              "      <th>393</th>\n",
              "      <td>27.0</td>\n",
              "      <td>4</td>\n",
              "      <td>140.0</td>\n",
              "      <td>86.0</td>\n",
              "      <td>2790.0</td>\n",
              "      <td>15.6</td>\n",
              "      <td>82</td>\n",
              "      <td>1</td>\n",
              "      <td>0</td>\n",
              "      <td>1</td>\n",
              "      <td>0</td>\n",
              "      <td>0</td>\n",
              "      <td>0</td>\n",
              "      <td>0</td>\n",
              "      <td>0</td>\n",
              "      <td>0</td>\n",
              "      <td>0</td>\n",
              "      <td>0</td>\n",
              "      <td>0</td>\n",
              "      <td>0</td>\n",
              "      <td>0</td>\n",
              "      <td>0</td>\n",
              "      <td>0</td>\n",
              "      <td>0</td>\n",
              "      <td>0</td>\n",
              "      <td>1</td>\n",
              "      <td>1</td>\n",
              "      <td>0</td>\n",
              "      <td>0</td>\n",
              "    </tr>\n",
              "    <tr>\n",
              "      <th>395</th>\n",
              "      <td>32.0</td>\n",
              "      <td>4</td>\n",
              "      <td>135.0</td>\n",
              "      <td>84.0</td>\n",
              "      <td>2295.0</td>\n",
              "      <td>11.6</td>\n",
              "      <td>82</td>\n",
              "      <td>1</td>\n",
              "      <td>0</td>\n",
              "      <td>1</td>\n",
              "      <td>0</td>\n",
              "      <td>0</td>\n",
              "      <td>0</td>\n",
              "      <td>0</td>\n",
              "      <td>0</td>\n",
              "      <td>0</td>\n",
              "      <td>0</td>\n",
              "      <td>0</td>\n",
              "      <td>0</td>\n",
              "      <td>0</td>\n",
              "      <td>0</td>\n",
              "      <td>0</td>\n",
              "      <td>0</td>\n",
              "      <td>0</td>\n",
              "      <td>0</td>\n",
              "      <td>1</td>\n",
              "      <td>1</td>\n",
              "      <td>0</td>\n",
              "      <td>0</td>\n",
              "    </tr>\n",
              "    <tr>\n",
              "      <th>396</th>\n",
              "      <td>28.0</td>\n",
              "      <td>4</td>\n",
              "      <td>120.0</td>\n",
              "      <td>79.0</td>\n",
              "      <td>2625.0</td>\n",
              "      <td>18.6</td>\n",
              "      <td>82</td>\n",
              "      <td>1</td>\n",
              "      <td>0</td>\n",
              "      <td>1</td>\n",
              "      <td>0</td>\n",
              "      <td>0</td>\n",
              "      <td>0</td>\n",
              "      <td>0</td>\n",
              "      <td>0</td>\n",
              "      <td>0</td>\n",
              "      <td>0</td>\n",
              "      <td>0</td>\n",
              "      <td>0</td>\n",
              "      <td>0</td>\n",
              "      <td>0</td>\n",
              "      <td>0</td>\n",
              "      <td>0</td>\n",
              "      <td>0</td>\n",
              "      <td>0</td>\n",
              "      <td>1</td>\n",
              "      <td>1</td>\n",
              "      <td>0</td>\n",
              "      <td>0</td>\n",
              "    </tr>\n",
              "    <tr>\n",
              "      <th>397</th>\n",
              "      <td>31.0</td>\n",
              "      <td>4</td>\n",
              "      <td>119.0</td>\n",
              "      <td>82.0</td>\n",
              "      <td>2720.0</td>\n",
              "      <td>19.4</td>\n",
              "      <td>82</td>\n",
              "      <td>1</td>\n",
              "      <td>0</td>\n",
              "      <td>1</td>\n",
              "      <td>0</td>\n",
              "      <td>0</td>\n",
              "      <td>0</td>\n",
              "      <td>0</td>\n",
              "      <td>0</td>\n",
              "      <td>0</td>\n",
              "      <td>0</td>\n",
              "      <td>0</td>\n",
              "      <td>0</td>\n",
              "      <td>0</td>\n",
              "      <td>0</td>\n",
              "      <td>0</td>\n",
              "      <td>0</td>\n",
              "      <td>0</td>\n",
              "      <td>0</td>\n",
              "      <td>1</td>\n",
              "      <td>1</td>\n",
              "      <td>0</td>\n",
              "      <td>0</td>\n",
              "    </tr>\n",
              "  </tbody>\n",
              "</table>\n",
              "<p>371 rows × 29 columns</p>\n",
              "</div>"
            ],
            "text/plain": [
              "      mpg cylinders  displacement  horsepower  ...  my_82  or_1 or_2 or_3\n",
              "0    18.0         8         307.0       130.0  ...      0     1    0    0\n",
              "1    15.0         8         350.0       165.0  ...      0     1    0    0\n",
              "2    18.0         8         318.0       150.0  ...      0     1    0    0\n",
              "3    16.0         8         304.0       150.0  ...      0     1    0    0\n",
              "4    17.0         8         302.0       140.0  ...      0     1    0    0\n",
              "..    ...       ...           ...         ...  ...    ...   ...  ...  ...\n",
              "392  27.0         4         151.0        90.0  ...      1     1    0    0\n",
              "393  27.0         4         140.0        86.0  ...      1     1    0    0\n",
              "395  32.0         4         135.0        84.0  ...      1     1    0    0\n",
              "396  28.0         4         120.0        79.0  ...      1     1    0    0\n",
              "397  31.0         4         119.0        82.0  ...      1     1    0    0\n",
              "\n",
              "[371 rows x 29 columns]"
            ]
          },
          "metadata": {},
          "execution_count": 32
        }
      ]
    },
    {
      "cell_type": "code",
      "metadata": {
        "id": "poR3_JccZr7G"
      },
      "source": [
        "from sklearn.metrics import accuracy_score\n",
        "from sklearn.model_selection import train_test_split"
      ],
      "execution_count": 33,
      "outputs": []
    },
    {
      "cell_type": "code",
      "metadata": {
        "id": "mzlIzbgdah97"
      },
      "source": [
        "X = df_wide.drop(['mpg'],axis=1)\n",
        "Y = df_wide[['mpg']]\n",
        "Xtrn, Xtest, Ytrn, Ytest = train_test_split(X, Y, test_size=0.3)"
      ],
      "execution_count": 34,
      "outputs": []
    },
    {
      "cell_type": "code",
      "metadata": {
        "id": "DmMnmliZaqVq"
      },
      "source": [
        "import sklearn.linear_model as lm\n",
        "from sklearn import tree\n",
        "from sklearn.ensemble import RandomForestRegressor\n",
        "from sklearn.ensemble import GradientBoostingRegressor\n",
        "\n",
        "from sklearn.metrics import mean_absolute_error, mean_squared_error, median_absolute_error, r2_score\n",
        "import math"
      ],
      "execution_count": 35,
      "outputs": []
    },
    {
      "cell_type": "markdown",
      "metadata": {
        "id": "QgiMlrxUbZus"
      },
      "source": [
        "Linear Regression, Decision tree, Random Forest, Gradient boostig methods applying"
      ]
    },
    {
      "cell_type": "code",
      "metadata": {
        "colab": {
          "base_uri": "https://localhost:8080/"
        },
        "id": "eAiG5TFpbP5d",
        "outputId": "b0b710a6-114c-4dab-a67a-ba00dbe0c730"
      },
      "source": [
        "params = {'n_estimators': 500,\n",
        "          'max_depth': 4,\n",
        "          'min_samples_split': 5,\n",
        "          'learning_rate': 0.01,\n",
        "          'loss': 'ls'}\n",
        "\n",
        "models = [lm.LinearRegression(), tree.DecisionTreeRegressor(), \n",
        "          RandomForestRegressor(n_estimators=100, max_features ='auto'), GradientBoostingRegressor(**params)]\n",
        "\n",
        "mse_tr = []\n",
        "mse_te = []\n",
        "rmse_tr = []\n",
        "rmse_te = []\n",
        "r2_tr = []\n",
        "r2_te = []\n",
        "\n",
        "for model in models:\n",
        "  model.fit(Xtrn,Ytrn)\n",
        "  Ytrn_pred = model.predict(Xtrn)\n",
        "  Ytest_pred = model.predict(Xtest)\n",
        "  \n",
        "  mse_tr.append(mean_squared_error(Ytrn, Ytrn_pred))\n",
        "  mse_te.append(mean_squared_error(Ytest, Ytest_pred))\n",
        "  rmse_tr.append(math.sqrt(mse_tr[-1]))\n",
        "  rmse_te.append(math.sqrt(mse_te[-1]))\n",
        "  r2_tr.append(r2_score(Ytrn, Ytrn_pred))\n",
        "  r2_te.append(r2_score(Ytest, Ytest_pred))"
      ],
      "execution_count": 36,
      "outputs": [
        {
          "output_type": "stream",
          "name": "stderr",
          "text": [
            "/usr/local/lib/python3.7/dist-packages/ipykernel_launcher.py:18: DataConversionWarning: A column-vector y was passed when a 1d array was expected. Please change the shape of y to (n_samples,), for example using ravel().\n",
            "/usr/local/lib/python3.7/dist-packages/sklearn/ensemble/_gb.py:1454: DataConversionWarning: A column-vector y was passed when a 1d array was expected. Please change the shape of y to (n_samples, ), for example using ravel().\n",
            "  y = column_or_1d(y, warn=True)\n"
          ]
        }
      ]
    },
    {
      "cell_type": "markdown",
      "metadata": {
        "id": "a70VcNosf7x8"
      },
      "source": [
        "#Methods comparasion"
      ]
    },
    {
      "cell_type": "markdown",
      "metadata": {
        "id": "a-IoAJTBgLpz"
      },
      "source": [
        "## Метрики качества\n",
        "Сoefficient of determination\n",
        "$$ R^2=1-\\frac{\\sum{(y_i-\\hat y_i)^2}}{\\sum{(y_i-\\bar y)^2}}=\\frac{\\sum{(\\hat y_i-\\bar y)^2}}{\\sum{(y_i-\\bar y)^2}} $$\n",
        "\n",
        "Mean Squared Error\n",
        "$$ MSE=\\frac{1}{n}\\sum{(y_i-\\hat y_i)^2}$$\n",
        "\n",
        "Root Mean Squared Error\n",
        "$$ RMSE=\\sqrt{\\frac{1}{n}\\sum{(y_i-\\hat y_i)^2}}$$"
      ]
    },
    {
      "cell_type": "code",
      "metadata": {
        "colab": {
          "base_uri": "https://localhost:8080/",
          "height": 237
        },
        "id": "djiO-1-Nf9ll",
        "outputId": "a0c29f60-5035-4a06-e1f5-a84c13f17222"
      },
      "source": [
        "results = pd.DataFrame(np.array([mse_tr, mse_te, rmse_tr, rmse_te, r2_tr, r2_te]),\n",
        "                   columns=['Linear Regression','Decision Tree','Random Forest','Gradient Boosting'],\n",
        "                   index=['mse_train', 'mse_test', 'rmse_train', 'rmse_test', 'r2_train', 'r2_test'])\n",
        "results"
      ],
      "execution_count": 37,
      "outputs": [
        {
          "output_type": "execute_result",
          "data": {
            "text/html": [
              "<div>\n",
              "<style scoped>\n",
              "    .dataframe tbody tr th:only-of-type {\n",
              "        vertical-align: middle;\n",
              "    }\n",
              "\n",
              "    .dataframe tbody tr th {\n",
              "        vertical-align: top;\n",
              "    }\n",
              "\n",
              "    .dataframe thead th {\n",
              "        text-align: right;\n",
              "    }\n",
              "</style>\n",
              "<table border=\"1\" class=\"dataframe\">\n",
              "  <thead>\n",
              "    <tr style=\"text-align: right;\">\n",
              "      <th></th>\n",
              "      <th>Linear Regression</th>\n",
              "      <th>Decision Tree</th>\n",
              "      <th>Random Forest</th>\n",
              "      <th>Gradient Boosting</th>\n",
              "    </tr>\n",
              "  </thead>\n",
              "  <tbody>\n",
              "    <tr>\n",
              "      <th>mse_train</th>\n",
              "      <td>5.842323</td>\n",
              "      <td>0.000000</td>\n",
              "      <td>0.686250</td>\n",
              "      <td>1.052166</td>\n",
              "    </tr>\n",
              "    <tr>\n",
              "      <th>mse_test</th>\n",
              "      <td>5.235307</td>\n",
              "      <td>10.508661</td>\n",
              "      <td>5.578430</td>\n",
              "      <td>6.162238</td>\n",
              "    </tr>\n",
              "    <tr>\n",
              "      <th>rmse_train</th>\n",
              "      <td>2.417090</td>\n",
              "      <td>0.000000</td>\n",
              "      <td>0.828402</td>\n",
              "      <td>1.025751</td>\n",
              "    </tr>\n",
              "    <tr>\n",
              "      <th>rmse_test</th>\n",
              "      <td>2.288079</td>\n",
              "      <td>3.241706</td>\n",
              "      <td>2.361870</td>\n",
              "      <td>2.482385</td>\n",
              "    </tr>\n",
              "    <tr>\n",
              "      <th>r2_train</th>\n",
              "      <td>0.885503</td>\n",
              "      <td>1.000000</td>\n",
              "      <td>0.986551</td>\n",
              "      <td>0.979380</td>\n",
              "    </tr>\n",
              "    <tr>\n",
              "      <th>r2_test</th>\n",
              "      <td>0.908857</td>\n",
              "      <td>0.817052</td>\n",
              "      <td>0.902884</td>\n",
              "      <td>0.892720</td>\n",
              "    </tr>\n",
              "  </tbody>\n",
              "</table>\n",
              "</div>"
            ],
            "text/plain": [
              "            Linear Regression  Decision Tree  Random Forest  Gradient Boosting\n",
              "mse_train            5.842323       0.000000       0.686250           1.052166\n",
              "mse_test             5.235307      10.508661       5.578430           6.162238\n",
              "rmse_train           2.417090       0.000000       0.828402           1.025751\n",
              "rmse_test            2.288079       3.241706       2.361870           2.482385\n",
              "r2_train             0.885503       1.000000       0.986551           0.979380\n",
              "r2_test              0.908857       0.817052       0.902884           0.892720"
            ]
          },
          "metadata": {},
          "execution_count": 37
        }
      ]
    },
    {
      "cell_type": "markdown",
      "metadata": {
        "id": "dlXoR6zShkfa"
      },
      "source": [
        "As we can see Random Forest shows the best result, but we can also conclude that algorithms are overfitted and require parameteres tuning.\n"
      ]
    }
  ]
}